{
 "cells": [
  {
   "cell_type": "code",
   "execution_count": 1,
   "id": "9f481e3e",
   "metadata": {
    "id": "9f481e3e"
   },
   "outputs": [],
   "source": [
    "import os\n",
    "import warnings\n",
    "import certifi\n",
    "import pandas as pd\n",
    "import seaborn as sns\n",
    "import matplotlib.pyplot as plt\n",
    "import json\n",
    "import warnings\n",
    "warnings.filterwarnings('ignore')\n",
    "plt.rcParams[\"figure.figsize\"] = (20,10)\n",
    "import numpy as np"
   ]
  },
  {
   "cell_type": "code",
   "execution_count": 2,
   "id": "52b63e97",
   "metadata": {
    "id": "52b63e97"
   },
   "outputs": [],
   "source": [
    "data = pd.read_csv(r\"C:\\Users\\User\\Desktop\\Thesis\\Models\\LSTM\\final_df.csv\")"
   ]
  },
  {
   "cell_type": "code",
   "execution_count": 3,
   "id": "6ede4ae8",
   "metadata": {
    "id": "6ede4ae8"
   },
   "outputs": [],
   "source": [
    "def null(data):\n",
    "    missing_percent = data.isnull().sum() * 100 / len(data)\n",
    "    total_missing = data.isnull().sum()\n",
    "    unique = data.nunique()\n",
    "    not_null = data.notnull().sum()\n",
    "    df = pd.DataFrame({'Unique Values': unique,\n",
    "                        'Value Exist': not_null,\n",
    "                        'Total_Missing': total_missing,\n",
    "                         'Missing %': missing_percent})\n",
    "    print('Data Shape: ',data.shape)\n",
    "    df = df.round(2)\n",
    "    return df\n"
   ]
  },
  {
   "cell_type": "code",
   "execution_count": 4,
   "id": "2e35143b",
   "metadata": {
    "colab": {
     "base_uri": "https://localhost:8080/",
     "height": 129
    },
    "id": "2e35143b",
    "outputId": "7a7af02c-0bd8-44e0-afd7-0b54db4fd419"
   },
   "outputs": [
    {
     "name": "stdout",
     "output_type": "stream",
     "text": [
      "Data Shape:  (45610, 2)\n"
     ]
    },
    {
     "data": {
      "text/html": [
       "<div>\n",
       "<style scoped>\n",
       "    .dataframe tbody tr th:only-of-type {\n",
       "        vertical-align: middle;\n",
       "    }\n",
       "\n",
       "    .dataframe tbody tr th {\n",
       "        vertical-align: top;\n",
       "    }\n",
       "\n",
       "    .dataframe thead th {\n",
       "        text-align: right;\n",
       "    }\n",
       "</style>\n",
       "<table border=\"1\" class=\"dataframe\">\n",
       "  <thead>\n",
       "    <tr style=\"text-align: right;\">\n",
       "      <th></th>\n",
       "      <th>Unique Values</th>\n",
       "      <th>Value Exist</th>\n",
       "      <th>Total_Missing</th>\n",
       "      <th>Missing %</th>\n",
       "    </tr>\n",
       "  </thead>\n",
       "  <tbody>\n",
       "    <tr>\n",
       "      <th>status_text</th>\n",
       "      <td>9089</td>\n",
       "      <td>45610</td>\n",
       "      <td>0</td>\n",
       "      <td>0.0</td>\n",
       "    </tr>\n",
       "    <tr>\n",
       "      <th>label</th>\n",
       "      <td>25</td>\n",
       "      <td>45610</td>\n",
       "      <td>0</td>\n",
       "      <td>0.0</td>\n",
       "    </tr>\n",
       "  </tbody>\n",
       "</table>\n",
       "</div>"
      ],
      "text/plain": [
       "             Unique Values  Value Exist  Total_Missing  Missing %\n",
       "status_text           9089        45610              0        0.0\n",
       "label                   25        45610              0        0.0"
      ]
     },
     "execution_count": 4,
     "metadata": {},
     "output_type": "execute_result"
    }
   ],
   "source": [
    "null(data)"
   ]
  },
  {
   "cell_type": "code",
   "execution_count": 5,
   "id": "caf80791",
   "metadata": {
    "id": "caf80791"
   },
   "outputs": [],
   "source": [
    "import tensorflow as tf"
   ]
  },
  {
   "cell_type": "code",
   "execution_count": 6,
   "id": "77565483",
   "metadata": {
    "colab": {
     "base_uri": "https://localhost:8080/",
     "height": 35
    },
    "id": "77565483",
    "outputId": "c44f1b18-33cb-4149-ee7e-a74404370d1e"
   },
   "outputs": [
    {
     "data": {
      "text/plain": [
       "'2.9.1'"
      ]
     },
     "execution_count": 6,
     "metadata": {},
     "output_type": "execute_result"
    }
   ],
   "source": [
    "tf.__version__"
   ]
  },
  {
   "cell_type": "code",
   "execution_count": 7,
   "id": "3b396055",
   "metadata": {
    "id": "3b396055"
   },
   "outputs": [],
   "source": [
    "import re\n",
    "\n",
    "import keras \n",
    "import numpy as np\n",
    "from keras.preprocessing.text import Tokenizer\n",
    "import pandas as pd\n",
    "from keras.models import Sequential\n",
    "from keras.layers import Dense\n",
    "from keras_preprocessing.sequence import pad_sequences\n",
    "from keras.layers import Input, Dense, Dropout, Embedding, LSTM, Flatten\n",
    "from keras.models import Model\n",
    "from keras.utils import to_categorical\n",
    "from keras.callbacks import ModelCheckpoint, EarlyStopping\n",
    "import seaborn as sns\n",
    "import tensorflow as tf\n",
    "import matplotlib.pyplot as plt\n",
    "from sklearn.model_selection import train_test_split\n",
    "from sklearn.metrics import accuracy_score\n",
    "\n",
    "from sklearn.metrics import confusion_matrix\n",
    "plt.style.use('ggplot')\n",
    "\n",
    "from keras import optimizers"
   ]
  },
  {
   "cell_type": "code",
   "execution_count": 8,
   "id": "85e77f83",
   "metadata": {
    "colab": {
     "base_uri": "https://localhost:8080/"
    },
    "id": "85e77f83",
    "outputId": "56ecb5c6-5862-47ba-ddc2-be0212827fa7"
   },
   "outputs": [
    {
     "data": {
      "text/plain": [
       "(45610, 2)"
      ]
     },
     "execution_count": 8,
     "metadata": {},
     "output_type": "execute_result"
    }
   ],
   "source": [
    "data.shape"
   ]
  },
  {
   "cell_type": "code",
   "execution_count": 9,
   "id": "f02a532a",
   "metadata": {
    "id": "f02a532a"
   },
   "outputs": [],
   "source": [
    "data = data[['status_text', 'label']]\n",
    "data.dropna(inplace=True)"
   ]
  },
  {
   "cell_type": "code",
   "execution_count": 10,
   "id": "50f90f13",
   "metadata": {
    "colab": {
     "base_uri": "https://localhost:8080/"
    },
    "id": "50f90f13",
    "outputId": "3fb33bda-7576-47e5-82e0-ad66aba0286e"
   },
   "outputs": [
    {
     "data": {
      "text/plain": [
       "(45610, 2)"
      ]
     },
     "execution_count": 10,
     "metadata": {},
     "output_type": "execute_result"
    }
   ],
   "source": [
    "data.shape"
   ]
  },
  {
   "cell_type": "code",
   "execution_count": 11,
   "id": "faafa62c",
   "metadata": {
    "colab": {
     "base_uri": "https://localhost:8080/",
     "height": 1000
    },
    "id": "faafa62c",
    "outputId": "2af0d61c-2c8b-4fa5-a095-3774738da7bb"
   },
   "outputs": [
    {
     "name": "stdout",
     "output_type": "stream",
     "text": [
      "tokening......\n",
      "41143\n",
      "Model: \"model\"\n",
      "_________________________________________________________________\n",
      " Layer (type)                Output Shape              Param #   \n",
      "=================================================================\n",
      " input_1 (InputLayer)        [(None, 20)]              0         \n",
      "                                                                 \n",
      " embedding (Embedding)       (None, 20, 256)           10532608  \n",
      "                                                                 \n",
      " lstm (LSTM)                 (None, 128)               197120    \n",
      "                                                                 \n",
      " dense (Dense)               (None, 128)               16512     \n",
      "                                                                 \n",
      " dense_1 (Dense)             (None, 25)                3225      \n",
      "                                                                 \n",
      "=================================================================\n",
      "Total params: 10,749,465\n",
      "Trainable params: 10,749,465\n",
      "Non-trainable params: 0\n",
      "_________________________________________________________________\n",
      "Epoch 1/400\n",
      "571/571 [==============================] - ETA: 0s - loss: 1.2374 - acc: 0.6362\n",
      "Epoch 1: val_acc improved from -inf to 0.92129, saving model to weights.hdf5\n",
      "571/571 [==============================] - 101s 168ms/step - loss: 1.2374 - acc: 0.6362 - val_loss: 0.2951 - val_acc: 0.9213\n",
      "Epoch 2/400\n",
      "571/571 [==============================] - ETA: 0s - loss: 0.1030 - acc: 0.9731\n",
      "Epoch 2: val_acc improved from 0.92129 to 0.98750, saving model to weights.hdf5\n",
      "571/571 [==============================] - 94s 164ms/step - loss: 0.1030 - acc: 0.9731 - val_loss: 0.0583 - val_acc: 0.9875\n",
      "Epoch 3/400\n",
      "571/571 [==============================] - ETA: 0s - loss: 0.0218 - acc: 0.9949\n",
      "Epoch 3: val_acc improved from 0.98750 to 0.99551, saving model to weights.hdf5\n",
      "571/571 [==============================] - 107s 187ms/step - loss: 0.0218 - acc: 0.9949 - val_loss: 0.0213 - val_acc: 0.9955\n",
      "Epoch 4/400\n",
      "571/571 [==============================] - ETA: 0s - loss: 0.0081 - acc: 0.9978\n",
      "Epoch 4: val_acc improved from 0.99551 to 0.99770, saving model to weights.hdf5\n",
      "571/571 [==============================] - 97s 171ms/step - loss: 0.0081 - acc: 0.9978 - val_loss: 0.0169 - val_acc: 0.9977\n",
      "Epoch 5/400\n",
      "571/571 [==============================] - ETA: 0s - loss: 0.0264 - acc: 0.9924\n",
      "Epoch 5: val_acc did not improve from 0.99770\n",
      "571/571 [==============================] - 100s 175ms/step - loss: 0.0264 - acc: 0.9924 - val_loss: 0.0402 - val_acc: 0.9888\n",
      "Epoch 6/400\n",
      "571/571 [==============================] - ETA: 0s - loss: 0.0225 - acc: 0.9928\n",
      "Epoch 6: val_acc did not improve from 0.99770\n",
      "571/571 [==============================] - 94s 165ms/step - loss: 0.0225 - acc: 0.9928 - val_loss: 0.0129 - val_acc: 0.9971\n",
      "Epoch 7/400\n",
      "571/571 [==============================] - ETA: 0s - loss: 0.0039 - acc: 0.9984\n",
      "Epoch 7: val_acc improved from 0.99770 to 0.99781, saving model to weights.hdf5\n",
      "571/571 [==============================] - 92s 161ms/step - loss: 0.0039 - acc: 0.9984 - val_loss: 0.0116 - val_acc: 0.9978\n",
      "Epoch 8/400\n",
      "571/571 [==============================] - ETA: 0s - loss: 0.0031 - acc: 0.9987\n",
      "Epoch 8: val_acc improved from 0.99781 to 0.99792, saving model to weights.hdf5\n",
      "571/571 [==============================] - 91s 160ms/step - loss: 0.0031 - acc: 0.9987 - val_loss: 0.0101 - val_acc: 0.9979\n",
      "Epoch 9/400\n",
      "571/571 [==============================] - ETA: 0s - loss: 0.0025 - acc: 0.9986\n",
      "Epoch 9: val_acc improved from 0.99792 to 0.99803, saving model to weights.hdf5\n",
      "571/571 [==============================] - 99s 174ms/step - loss: 0.0025 - acc: 0.9986 - val_loss: 0.0095 - val_acc: 0.9980\n",
      "Epoch 10/400\n",
      "571/571 [==============================] - ETA: 0s - loss: 0.0024 - acc: 0.9987\n",
      "Epoch 10: val_acc did not improve from 0.99803\n",
      "571/571 [==============================] - 96s 167ms/step - loss: 0.0024 - acc: 0.9987 - val_loss: 0.0105 - val_acc: 0.9978\n",
      "Epoch 11/400\n",
      "571/571 [==============================] - ETA: 0s - loss: 0.0022 - acc: 0.9987\n",
      "Epoch 11: val_acc did not improve from 0.99803\n",
      "571/571 [==============================] - 114s 200ms/step - loss: 0.0022 - acc: 0.9987 - val_loss: 0.0109 - val_acc: 0.9978\n",
      "Epoch 12/400\n",
      "571/571 [==============================] - ETA: 0s - loss: 0.0021 - acc: 0.9988\n",
      "Epoch 12: val_acc improved from 0.99803 to 0.99825, saving model to weights.hdf5\n",
      "571/571 [==============================] - 106s 186ms/step - loss: 0.0021 - acc: 0.9988 - val_loss: 0.0121 - val_acc: 0.9982\n",
      "Epoch 13/400\n",
      "571/571 [==============================] - ETA: 0s - loss: 0.0022 - acc: 0.9987\n",
      "Epoch 13: val_acc did not improve from 0.99825\n",
      "571/571 [==============================] - 103s 181ms/step - loss: 0.0022 - acc: 0.9987 - val_loss: 0.0135 - val_acc: 0.9980\n",
      "Epoch 14/400\n",
      "571/571 [==============================] - ETA: 0s - loss: 0.0346 - acc: 0.9890\n",
      "Epoch 14: val_acc did not improve from 0.99825\n",
      "571/571 [==============================] - 105s 184ms/step - loss: 0.0346 - acc: 0.9890 - val_loss: 0.0617 - val_acc: 0.9836\n",
      "Epoch 15/400\n",
      "571/571 [==============================] - ETA: 0s - loss: 0.0164 - acc: 0.9948\n",
      "Epoch 15: val_acc did not improve from 0.99825\n",
      "571/571 [==============================] - 100s 175ms/step - loss: 0.0164 - acc: 0.9948 - val_loss: 0.0200 - val_acc: 0.9971\n",
      "Epoch 16/400\n",
      "571/571 [==============================] - ETA: 0s - loss: 0.0030 - acc: 0.9983\n",
      "Epoch 16: val_acc did not improve from 0.99825\n",
      "571/571 [==============================] - 95s 167ms/step - loss: 0.0030 - acc: 0.9983 - val_loss: 0.0160 - val_acc: 0.9970\n",
      "Epoch 17/400\n",
      "571/571 [==============================] - ETA: 0s - loss: 0.0021 - acc: 0.9988\n",
      "Epoch 17: val_acc did not improve from 0.99825\n",
      "571/571 [==============================] - 113s 197ms/step - loss: 0.0021 - acc: 0.9988 - val_loss: 0.0168 - val_acc: 0.9974\n",
      "Epoch 18/400\n",
      "571/571 [==============================] - ETA: 0s - loss: 0.0021 - acc: 0.9989\n",
      "Epoch 18: val_acc did not improve from 0.99825\n",
      "571/571 [==============================] - 94s 164ms/step - loss: 0.0021 - acc: 0.9989 - val_loss: 0.0174 - val_acc: 0.9977\n",
      "Epoch 19/400\n",
      "571/571 [==============================] - ETA: 0s - loss: 0.0021 - acc: 0.9987\n",
      "Epoch 19: val_acc did not improve from 0.99825\n",
      "571/571 [==============================] - 95s 166ms/step - loss: 0.0021 - acc: 0.9987 - val_loss: 0.0175 - val_acc: 0.9976\n",
      "Epoch 20/400\n",
      "571/571 [==============================] - ETA: 0s - loss: 0.0019 - acc: 0.9990\n",
      "Epoch 20: val_acc did not improve from 0.99825\n",
      "571/571 [==============================] - 89s 156ms/step - loss: 0.0019 - acc: 0.9990 - val_loss: 0.0180 - val_acc: 0.9971\n",
      "Epoch 21/400\n",
      "571/571 [==============================] - ETA: 0s - loss: 0.0020 - acc: 0.9988\n",
      "Epoch 21: val_acc did not improve from 0.99825\n",
      "571/571 [==============================] - 90s 158ms/step - loss: 0.0020 - acc: 0.9988 - val_loss: 0.0185 - val_acc: 0.9974\n",
      "Epoch 22/400\n",
      "571/571 [==============================] - ETA: 0s - loss: 0.0020 - acc: 0.9987\n",
      "Epoch 22: val_acc did not improve from 0.99825\n",
      "571/571 [==============================] - 95s 166ms/step - loss: 0.0020 - acc: 0.9987 - val_loss: 0.0194 - val_acc: 0.9971\n",
      "Epoch 22: early stopping\n",
      "286/286 [==============================] - 5s 13ms/step\n",
      "predicted  = \n",
      "[[ 542    0    0    0    0    0    0    0    0    0    0    0    0    0\n",
      "     0    0    0    0    0    0    0    0    0]\n",
      " [   0   93    0    0    0    0    0    0    0    0    0    0    0    0\n",
      "     0    0    0    0    0    0    0    0    0]\n",
      " [   0    0   37    0    0    0    0    0    0    0    0    0    0    0\n",
      "     0    0    0    0    0    0    0    0    0]\n",
      " [   0    0    0  932    0    0    0    0    0    0    0    0    0    0\n",
      "     0    0    0    0    0    0    0    0    0]\n",
      " [   0    0    0    0   34    0    0    0    0    0    0    0    0    0\n",
      "     0    0    0    0    0    0    0    0    0]\n",
      " [   0    0    0    0    0  692    0    0    0    0    0    0    0    0\n",
      "     0    0    0    0    0    0    0    0    0]\n",
      " [   0    0    0    0    0    0  559    0    0    0    0    0    0    0\n",
      "     0    0    0    0    0    0    0    0    0]\n",
      " [   0    0    0    0    0    0    0   77    0    0    0    0    0    0\n",
      "     0    0    0    0    0    0    0    0    0]\n",
      " [   0    0    0    0    0    0    0    0   76    0    0    0    0    0\n",
      "     0    0    0    0    0    0    0    0    0]\n",
      " [   0    0    0    0    0    0    0    0    0  389    0    0    0    0\n",
      "     0    0    0    0    0    0    0    0    0]\n",
      " [   0    0    0    0    0    0    0    0    0    0  337    0    0    0\n",
      "     0    0    0    0    0    0    0    0    0]\n",
      " [   0    0    0    0    0    0    0    0    0    0    0   67    0    0\n",
      "     0    0    0    0    0    0    0    0    0]\n",
      " [   0    0    0    0    0    0    0    0    0    0    0    0 1084    0\n",
      "     0    0    0    0    0    0    0    0    0]\n",
      " [   0    0    0    0    0    0    0    0    0    0    0    0    0  205\n",
      "     0    0    0    0    0    0    0    0    0]\n",
      " [   0    0    0    0    0    0    0    0    0    0    0    0    0    0\n",
      "   163    0    0    0    0    0    0    0    0]\n",
      " [   0    0    0    0    0    0    0    0    0    0    0    0    0    0\n",
      "     0  155    0    0    0    0    0    0    0]\n",
      " [   0    0    0    0    0    0    0    0    1    0    0    0    0    0\n",
      "     0    0  484    0    0    0    0    0    0]\n",
      " [   0    0    0    0    0    0    0    0    0    0    0    0    0    0\n",
      "     0    0    0    9    0    0    0    0    0]\n",
      " [   0    1    0    0    0    1    0    0    0    0    5    0    0    0\n",
      "     0    0    1    0 1696    0    0    0    0]\n",
      " [   0    0    0    0    0    0    0    0    0    5    0    0    0    0\n",
      "     0    0    0    0    0  436    0    0    0]\n",
      " [   0    0    0    0    0    0    1    0    0    0    0    0    0    0\n",
      "     0    0    0    0    0    0  815    0    0]\n",
      " [   0    0    0    0    0    0    0    0    0    0    0    0    0    0\n",
      "     0    0    0    0    0    0    1  213    0]\n",
      " [   0    0    0    0    0    0    0    0    0    0    0    0    0    0\n",
      "     0    0    0    0    0    0    0    0   11]]\n",
      "0.998245998684499\n"
     ]
    },
    {
     "data": {
      "image/png": "[encoded data removed]",
      "text/plain": [
       "<Figure size 1440x720 with 1 Axes>"
      ]
     },
     "metadata": {},
     "output_type": "display_data"
    }
   ],
   "source": [
    "data['target'] = data.label.astype('category').cat.codes\n",
    "#data['num_words'] = data.status_text.apply(lambda x : len(x.split()))\n",
    "\n",
    "num_class = len(np.unique(data.label.values))\n",
    "y = data['target'].values\n",
    "\n",
    "MAX_LENGTH = 20\n",
    "tokenizer = Tokenizer()\n",
    "print(\"tokening......\")\n",
    "try:\n",
    "    tokenizer.fit_on_texts(data.status_text.values)\n",
    "    post_seq = tokenizer.texts_to_sequences(data.status_text.values)\n",
    "\n",
    "    post_seq_padded = pad_sequences(post_seq, maxlen=MAX_LENGTH)\n",
    "\n",
    "    X_train, X_test, y_train, y_test = train_test_split(post_seq_padded, y, test_size=0.20)\n",
    "\n",
    "    vocab_size = len(tokenizer.word_index) + 1\n",
    "\n",
    "    print(vocab_size)\n",
    "\n",
    "\n",
    "    inputs = Input(shape=(MAX_LENGTH, ))\n",
    "\n",
    "    # embedding vec feature 256\n",
    "    embedding_layer = Embedding(vocab_size,\n",
    "                                256,\n",
    "                                input_length=MAX_LENGTH)(inputs)\n",
    "\n",
    "    x = LSTM(128)(embedding_layer)\n",
    "    #x = Dense(128)(embedding_layer)\n",
    "    #x = Dense(256, activation='relu')(x)\n",
    "    x = Dense(128, activation='relu')(x)\n",
    "    predictions = Dense(num_class, activation='softmax')(x)\n",
    "    model = Model(inputs=[inputs], outputs=predictions)\n",
    "    #sgd = optimizers.SGD(lr=0.001, momentum=0.9, nesterov=True)\n",
    "    model.compile(optimizer='adam',\n",
    "                  loss='categorical_crossentropy',\n",
    "                  metrics=['acc'])\n",
    "\n",
    "    model.summary()\n",
    "\n",
    "    filepath=\"weights.hdf5\"\n",
    "    checkpointer = ModelCheckpoint(filepath, monitor='val_acc', verbose=1, save_best_only=True, mode='max')\n",
    "    earlyStopping = EarlyStopping(monitor='val_acc', patience=10, verbose=1, mode='max')\n",
    "    history = model.fit([X_train], batch_size=64, y=to_categorical(y_train), verbose=1, validation_data=(X_test,to_categorical(y_test)),\n",
    "                        shuffle=True, epochs=400, callbacks=[checkpointer,earlyStopping])\n",
    "\n",
    "    df = pd.DataFrame({'epochs':history.epoch, 'accuracy': history.history['acc'], 'validation_accuracy': history.history['val_acc']})\n",
    "    g = sns.pointplot(x=\"epochs\", y=\"accuracy\", data=df, fit_reg=False)\n",
    "    g = sns.pointplot(x=\"epochs\", y=\"validation_accuracy\", data=df, fit_reg=False, color='blue')\n",
    "\n",
    "    model.load_weights('weights.hdf5')\n",
    "    predicted = model.predict(X_test)\n",
    "    print(\"predicted  = \")\n",
    "    #print(predicted)\n",
    "    #matrix = metrics.confusion_matrix(X_test.argmax(axis=1), predicted.argmax(axis=1))\n",
    "    #print(matrix);\n",
    "    predicted = np.argmax(predicted, axis=1)\n",
    "\n",
    "    print(confusion_matrix(y_test, predicted))\n",
    "\n",
    "    print(accuracy_score(y_test, predicted))\n",
    "except:\n",
    "    print(\".....XXX....\")\n",
    "    pass"
   ]
  },
  {
   "cell_type": "code",
   "execution_count": 12,
   "id": "0e857c7e",
   "metadata": {
    "colab": {
     "background_save": true,
     "base_uri": "https://localhost:8080/"
    },
    "id": "0e857c7e",
    "outputId": "dd9b646e-ad8c-43cf-a009-5eacb53c752b"
   },
   "outputs": [
    {
     "name": "stdout",
     "output_type": "stream",
     "text": [
      "41143\n",
      "Model: \"model_1\"\n",
      "_________________________________________________________________\n",
      " Layer (type)                Output Shape              Param #   \n",
      "=================================================================\n",
      " input_2 (InputLayer)        [(None, 20)]              0         \n",
      "                                                                 \n",
      " embedding_1 (Embedding)     (None, 20, 256)           10532608  \n",
      "                                                                 \n",
      " lstm_1 (LSTM)               (None, 128)               197120    \n",
      "                                                                 \n",
      " dense_2 (Dense)             (None, 64)                8256      \n",
      "                                                                 \n",
      " dense_3 (Dense)             (None, 25)                1625      \n",
      "                                                                 \n",
      "=================================================================\n",
      "Total params: 10,739,609\n",
      "Trainable params: 10,739,609\n",
      "Non-trainable params: 0\n",
      "_________________________________________________________________\n",
      "Epoch 1/50\n",
      "571/571 [==============================] - ETA: 0s - loss: 1.2456 - acc: 0.6386\n",
      "Epoch 1: val_acc improved from -inf to 0.91679, saving model to weights.hdf5\n",
      "571/571 [==============================] - 84s 143ms/step - loss: 1.2456 - acc: 0.6386 - val_loss: 0.3100 - val_acc: 0.9168\n",
      "Epoch 2/50\n",
      "571/571 [==============================] - ETA: 0s - loss: 0.1023 - acc: 0.9742\n",
      "Epoch 2: val_acc improved from 0.91679 to 0.97621, saving model to weights.hdf5\n",
      "571/571 [==============================] - 81s 142ms/step - loss: 0.1023 - acc: 0.9742 - val_loss: 0.0795 - val_acc: 0.9762\n",
      "Epoch 3/50\n",
      "571/571 [==============================] - ETA: 0s - loss: 0.0241 - acc: 0.9940\n",
      "Epoch 3: val_acc improved from 0.97621 to 0.98586, saving model to weights.hdf5\n",
      "571/571 [==============================] - 80s 141ms/step - loss: 0.0241 - acc: 0.9940 - val_loss: 0.0514 - val_acc: 0.9859\n",
      "Epoch 4/50\n",
      "571/571 [==============================] - ETA: 0s - loss: 0.0171 - acc: 0.9954\n",
      "Epoch 4: val_acc improved from 0.98586 to 0.99583, saving model to weights.hdf5\n",
      "571/571 [==============================] - 80s 140ms/step - loss: 0.0171 - acc: 0.9954 - val_loss: 0.0128 - val_acc: 0.9958\n",
      "Epoch 5/50\n",
      "571/571 [==============================] - ETA: 0s - loss: 0.0169 - acc: 0.9954\n",
      "Epoch 5: val_acc did not improve from 0.99583\n",
      "571/571 [==============================] - 80s 140ms/step - loss: 0.0169 - acc: 0.9954 - val_loss: 0.0313 - val_acc: 0.9921\n",
      "Epoch 6/50\n",
      "571/571 [==============================] - ETA: 0s - loss: 0.0167 - acc: 0.9954\n",
      "Epoch 6: val_acc improved from 0.99583 to 0.99671, saving model to weights.hdf5\n",
      "571/571 [==============================] - 84s 146ms/step - loss: 0.0167 - acc: 0.9954 - val_loss: 0.0156 - val_acc: 0.9967\n",
      "Epoch 7/50\n",
      "571/571 [==============================] - ETA: 0s - loss: 0.0104 - acc: 0.9969\n",
      "Epoch 7: val_acc improved from 0.99671 to 0.99770, saving model to weights.hdf5\n",
      "571/571 [==============================] - 88s 153ms/step - loss: 0.0104 - acc: 0.9969 - val_loss: 0.0083 - val_acc: 0.9977\n",
      "Epoch 8/50\n",
      "571/571 [==============================] - ETA: 0s - loss: 0.0035 - acc: 0.9986\n",
      "Epoch 8: val_acc improved from 0.99770 to 0.99825, saving model to weights.hdf5\n",
      "571/571 [==============================] - 85s 149ms/step - loss: 0.0035 - acc: 0.9986 - val_loss: 0.0069 - val_acc: 0.9982\n",
      "Epoch 9/50\n",
      "571/571 [==============================] - ETA: 0s - loss: 0.0026 - acc: 0.9989\n",
      "Epoch 9: val_acc did not improve from 0.99825\n",
      "571/571 [==============================] - 85s 149ms/step - loss: 0.0026 - acc: 0.9989 - val_loss: 0.0077 - val_acc: 0.9979\n",
      "Epoch 10/50\n",
      "571/571 [==============================] - ETA: 0s - loss: 0.0027 - acc: 0.9988\n",
      "Epoch 10: val_acc did not improve from 0.99825\n",
      "571/571 [==============================] - 85s 149ms/step - loss: 0.0027 - acc: 0.9988 - val_loss: 0.0082 - val_acc: 0.9978\n",
      "Epoch 11/50\n",
      "571/571 [==============================] - ETA: 0s - loss: 0.0027 - acc: 0.9986\n",
      "Epoch 11: val_acc did not improve from 0.99825\n",
      "571/571 [==============================] - 80s 140ms/step - loss: 0.0027 - acc: 0.9986 - val_loss: 0.0080 - val_acc: 0.9979\n",
      "Epoch 12/50\n",
      "571/571 [==============================] - ETA: 0s - loss: 0.0024 - acc: 0.9989\n",
      "Epoch 12: val_acc did not improve from 0.99825\n",
      "571/571 [==============================] - 77s 136ms/step - loss: 0.0024 - acc: 0.9989 - val_loss: 0.0080 - val_acc: 0.9979\n",
      "Epoch 13/50\n",
      "571/571 [==============================] - ETA: 0s - loss: 0.0316 - acc: 0.9908\n",
      "Epoch 13: val_acc did not improve from 0.99825\n",
      "571/571 [==============================] - 78s 136ms/step - loss: 0.0316 - acc: 0.9908 - val_loss: 0.0463 - val_acc: 0.9876\n",
      "Epoch 14/50\n",
      "571/571 [==============================] - ETA: 0s - loss: 0.0136 - acc: 0.9957\n",
      "Epoch 14: val_acc did not improve from 0.99825\n",
      "571/571 [==============================] - 79s 138ms/step - loss: 0.0136 - acc: 0.9957 - val_loss: 0.0111 - val_acc: 0.9974\n",
      "Epoch 15/50\n",
      "571/571 [==============================] - ETA: 0s - loss: 0.0023 - acc: 0.9989\n",
      "Epoch 15: val_acc did not improve from 0.99825\n",
      "571/571 [==============================] - 78s 136ms/step - loss: 0.0023 - acc: 0.9989 - val_loss: 0.0102 - val_acc: 0.9978\n",
      "Epoch 16/50\n",
      "571/571 [==============================] - ETA: 0s - loss: 0.0021 - acc: 0.9989\n",
      "Epoch 16: val_acc did not improve from 0.99825\n",
      "571/571 [==============================] - 663s 1s/step - loss: 0.0021 - acc: 0.9989 - val_loss: 0.0106 - val_acc: 0.9975\n",
      "Epoch 17/50\n",
      "571/571 [==============================] - ETA: 0s - loss: 0.0020 - acc: 0.9988\n",
      "Epoch 17: val_acc did not improve from 0.99825\n",
      "571/571 [==============================] - 80s 140ms/step - loss: 0.0020 - acc: 0.9988 - val_loss: 0.0111 - val_acc: 0.9980\n",
      "Epoch 18/50\n",
      "571/571 [==============================] - ETA: 0s - loss: 0.0021 - acc: 0.9987\n",
      "Epoch 18: val_acc did not improve from 0.99825\n",
      "571/571 [==============================] - 75s 132ms/step - loss: 0.0021 - acc: 0.9987 - val_loss: 0.0110 - val_acc: 0.9979\n",
      "Epoch 18: early stopping\n",
      "286/286 [==============================] - 3s 9ms/step\n",
      "predicted  = \n",
      "[[ 542    0    0    0    0    0    0    0    0    0    0    0    0    0\n",
      "     0    0    0    0    0    0    0    0    0    0    0]\n",
      " [   0   78    0    0    0    0    0    0    0    0    0    0    0    0\n",
      "     0    0    0    0    0    0    3    0    0    0    0]\n",
      " [   0    0   30    0    0    0    0    0    0    0    0    0    0    0\n",
      "     0    0    0    0    0    0    0    0    0    0    0]\n",
      " [   0    0    0  918    0    0    0    0    0    0    0    0    0    0\n",
      "     0    0    0    0    0    0    0    0    0    0    0]\n",
      " [   0    0    0    0    1    0    0    0    0    0    0    0    0    0\n",
      "     0    0    0    0    0    0    0    0    0    0    0]\n",
      " [   0    0    0    0    0    2    0    0    0    0    0    0    0    0\n",
      "     0    0    0    0    0    0    0    0    0    0    0]\n",
      " [   0    0    0    0    0    0   41    0    0    0    0    0    0    0\n",
      "     0    0    0    0    0    0    0    0    0    0    0]\n",
      " [   0    0    0    0    0    0    0  701    0    0    0    0    0    0\n",
      "     0    0    0    0    0    0    0    0    0    0    0]\n",
      " [   0    0    0    0    0    0    0    0  566    0    0    0    0    0\n",
      "     0    0    0    0    0    0    0    0    2    0    0]\n",
      " [   0    0    0    0    0    0    0    0    0   92    0    0    0    0\n",
      "     0    0    0    0    0    0    0    0    0    0    0]\n",
      " [   0    0    0    0    0    0    0    0    0    0   75    0    0    0\n",
      "     0    0    0    0    0    0    0    0    0    0    0]\n",
      " [   0    0    0    0    0    0    0    0    0    0    0  397    0    0\n",
      "     0    0    0    0    0    0    0    0    0    0    0]\n",
      " [   0    0    0    0    0    0    0    0    0    0    0    0  353    0\n",
      "     0    0    0    0    0    0    0    0    0    0    0]\n",
      " [   0    0    0    0    0    0    0    0    0    0    0    0    0   82\n",
      "     0    0    0    0    0    0    0    0    0    0    0]\n",
      " [   0    0    0    0    0    0    0    0    0    0    0    0    0    0\n",
      "  1055    0    0    0    0    0    0    0    0    0    0]\n",
      " [   0    0    0    0    0    0    0    0    0    0    0    0    0    0\n",
      "     0  220    0    0    0    0    0    0    0    0    0]\n",
      " [   0    0    0    0    0    0    0    0    0    0    0    0    0    0\n",
      "     0    0  157    0    0    0    0    0    0    0    0]\n",
      " [   0    0    0    0    0    0    0    0    0    0    0    0    1    0\n",
      "     0    0    0  174    0    0    0    0    0    0    0]\n",
      " [   0    0    0    0    0    0    0    0    0    0    2    0    0    0\n",
      "     0    0    0    0  426    0    2    0    0    0    0]\n",
      " [   0    0    0    0    0    0    0    0    0    0    0    0    0    0\n",
      "     0    0    0    0    0   10    0    0    0    0    0]\n",
      " [   0    0    0    0    0    0    0    0    0    0    0    0    0    0\n",
      "     0    0    0    5    0    0 1695    0    0    0    0]\n",
      " [   0    0    0    0    0    0    0    0    0    0    0    0    0    0\n",
      "     0    0    0    0    0    0    0  411    0    0    0]\n",
      " [   0    0    0    0    0    0    0    0    0    0    0    0    0    0\n",
      "     0    0    0    0    0    0    0    0  830    1    0]\n",
      " [   0    0    0    0    0    0    0    0    0    0    0    0    0    0\n",
      "     0    0    0    0    0    0    0    0    0  237    0]\n",
      " [   0    0    0    0    0    0    0    0    0    0    0    0    0    0\n",
      "     0    0    0    0    0    0    0    0    0    0   13]]\n"
     ]
    },
    {
     "name": "stdout",
     "output_type": "stream",
     "text": [
      "0.998245998684499\n"
     ]
    },
    {
     "data": {
      "image/png": "[encoded data removed]",
      "text/plain": [
       "<Figure size 1440x720 with 1 Axes>"
      ]
     },
     "metadata": {},
     "output_type": "display_data"
    }
   ],
   "source": [
    "data['target'] = data.label.astype('category').cat.codes\n",
    "#data['num_words'] = data.status_text.apply(lambda x : len(x.split()))\n",
    "\n",
    "num_class = len(np.unique(data.label.values))\n",
    "y = data['target'].values\n",
    "\n",
    "MAX_LENGTH = 20\n",
    "tokenizer = Tokenizer()\n",
    "tokenizer.fit_on_texts(data.status_text.values)\n",
    "post_seq = tokenizer.texts_to_sequences(data.status_text.values)\n",
    "post_seq_padded = pad_sequences(post_seq, maxlen=MAX_LENGTH)\n",
    "\n",
    "X_train, X_test, y_train, y_test = train_test_split(post_seq_padded, y, test_size=0.20)\n",
    "\n",
    "vocab_size = len(tokenizer.word_index) + 1\n",
    "\n",
    "print(vocab_size)\n",
    "\n",
    "\n",
    "inputs = Input(shape=(MAX_LENGTH, ))\n",
    "embedding_layer = Embedding(vocab_size,\n",
    "                            256,\n",
    "                            input_length=MAX_LENGTH)(inputs)\n",
    "\n",
    "x = LSTM(128)(embedding_layer)\n",
    "x = Dense(64, activation='relu')(x)\n",
    "#x = Dense(128, activation='relu')(x)\n",
    "predictions = Dense(num_class, activation='softmax')(x)\n",
    "model = Model(inputs=[inputs], outputs=predictions)\n",
    "model.compile(optimizer='adam',\n",
    "              loss='categorical_crossentropy',\n",
    "              metrics=['acc'])\n",
    "\n",
    "model.summary()\n",
    "\n",
    "filepath=\"weights.hdf5\"\n",
    "checkpointer = ModelCheckpoint(filepath, monitor='val_acc', verbose=1, save_best_only=True, mode='max')\n",
    "earlyStopping = EarlyStopping(monitor='val_acc', patience=10, verbose=1, mode='max')\n",
    "history = model.fit([X_train], batch_size=64, y=to_categorical(y_train), verbose=1, validation_data=(X_test,to_categorical(y_test)),\n",
    "                    shuffle=True, epochs=50, callbacks=[checkpointer,earlyStopping])\n",
    "\n",
    "df = pd.DataFrame({'epochs':history.epoch, 'accuracy': history.history['acc'], 'validation_accuracy': history.history['val_acc']})\n",
    "g = sns.pointplot(x=\"epochs\", y=\"accuracy\", data=df, fit_reg=False)\n",
    "g = sns.pointplot(x=\"epochs\", y=\"validation_accuracy\", data=df, fit_reg=False, color='green')\n",
    "\n",
    "model.load_weights('weights.hdf5')\n",
    "predicted = model.predict(X_test)\n",
    "print(\"predicted  = \")\n",
    "#print(predicted)\n",
    "#matrix = metrics.confusion_matrix(X_test.argmax(axis=1), predicted.argmax(axis=1))\n",
    "#print(matrix);\n",
    "predicted = np.argmax(predicted, axis=1)\n",
    "\n",
    "print(confusion_matrix(y_test, predicted))\n",
    "\n",
    "print(accuracy_score(y_test, predicted))"
   ]
  },
  {
   "cell_type": "code",
   "execution_count": null,
   "id": "e59e0d0c",
   "metadata": {
    "colab": {
     "background_save": true
    },
    "id": "e59e0d0c"
   },
   "outputs": [],
   "source": []
  }
 ],
 "metadata": {
  "celltoolbar": "Tags",
  "colab": {
   "collapsed_sections": [],
   "provenance": []
  },
  "kernelspec": {
   "display_name": "Python 3 (ipykernel)",
   "language": "python",
   "name": "python3"
  },
  "language_info": {
   "codemirror_mode": {
    "name": "ipython",
    "version": 3
   },
   "file_extension": ".py",
   "mimetype": "text/x-python",
   "name": "python",
   "nbconvert_exporter": "python",
   "pygments_lexer": "ipython3",
   "version": "3.9.7"
  }
 },
 "nbformat": 4,
 "nbformat_minor": 5
}
