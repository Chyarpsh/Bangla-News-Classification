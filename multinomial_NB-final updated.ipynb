{
 "cells": [
  {
   "cell_type": "code",
   "execution_count": 1,
   "id": "d33e8351",
   "metadata": {
    "colab": {
     "base_uri": "https://localhost:8080/"
    },
    "id": "F4HOXYJo0eHX",
    "outputId": "1744df34-3745-4448-9342-b1c684378b19"
   },
   "outputs": [
    {
     "name": "stdout",
     "output_type": "stream",
     "text": [
      "Requirement already satisfied: seaborn in c:\\users\\propcloud\\appdata\\local\\programs\\python\\python38\\lib\\site-packages (0.12.1)\n",
      "Requirement already satisfied: numpy>=1.17 in c:\\users\\propcloud\\appdata\\local\\programs\\python\\python38\\lib\\site-packages (from seaborn) (1.23.3)\n",
      "Requirement already satisfied: pandas>=0.25 in c:\\users\\propcloud\\appdata\\local\\programs\\python\\python38\\lib\\site-packages (from seaborn) (1.5.0)\n",
      "Requirement already satisfied: matplotlib!=3.6.1,>=3.1 in c:\\users\\propcloud\\appdata\\local\\programs\\python\\python38\\lib\\site-packages (from seaborn) (3.6.2)\n",
      "Requirement already satisfied: cycler>=0.10 in c:\\users\\propcloud\\appdata\\local\\programs\\python\\python38\\lib\\site-packages (from matplotlib!=3.6.1,>=3.1->seaborn) (0.11.0)\n",
      "Requirement already satisfied: python-dateutil>=2.7 in c:\\users\\propcloud\\appdata\\local\\programs\\python\\python38\\lib\\site-packages (from matplotlib!=3.6.1,>=3.1->seaborn) (2.8.2)\n",
      "Requirement already satisfied: packaging>=20.0 in c:\\users\\propcloud\\appdata\\local\\programs\\python\\python38\\lib\\site-packages (from matplotlib!=3.6.1,>=3.1->seaborn) (21.3)\n",
      "Requirement already satisfied: kiwisolver>=1.0.1 in c:\\users\\propcloud\\appdata\\local\\programs\\python\\python38\\lib\\site-packages (from matplotlib!=3.6.1,>=3.1->seaborn) (1.4.4)\n",
      "Requirement already satisfied: contourpy>=1.0.1 in c:\\users\\propcloud\\appdata\\local\\programs\\python\\python38\\lib\\site-packages (from matplotlib!=3.6.1,>=3.1->seaborn) (1.0.6)\n",
      "Requirement already satisfied: pyparsing>=2.2.1 in c:\\users\\propcloud\\appdata\\local\\programs\\python\\python38\\lib\\site-packages (from matplotlib!=3.6.1,>=3.1->seaborn) (3.0.9)\n",
      "Requirement already satisfied: pillow>=6.2.0 in c:\\users\\propcloud\\appdata\\local\\programs\\python\\python38\\lib\\site-packages (from matplotlib!=3.6.1,>=3.1->seaborn) (9.3.0)\n",
      "Requirement already satisfied: fonttools>=4.22.0 in c:\\users\\propcloud\\appdata\\local\\programs\\python\\python38\\lib\\site-packages (from matplotlib!=3.6.1,>=3.1->seaborn) (4.38.0)\n",
      "Requirement already satisfied: pytz>=2020.1 in c:\\users\\propcloud\\appdata\\local\\programs\\python\\python38\\lib\\site-packages (from pandas>=0.25->seaborn) (2022.4)\n",
      "Requirement already satisfied: six>=1.5 in c:\\users\\propcloud\\appdata\\local\\programs\\python\\python38\\lib\\site-packages (from python-dateutil>=2.7->matplotlib!=3.6.1,>=3.1->seaborn) (1.16.0)\n"
     ]
    },
    {
     "name": "stderr",
     "output_type": "stream",
     "text": [
      "WARNING: You are using pip version 21.1.1; however, version 22.3.1 is available.\n",
      "You should consider upgrading via the 'c:\\users\\propcloud\\appdata\\local\\programs\\python\\python38\\python.exe -m pip install --upgrade pip' command.\n"
     ]
    }
   ],
   "source": [
    "!pip install seaborn"
   ]
  },
  {
   "cell_type": "code",
   "execution_count": 2,
   "id": "f890d93c",
   "metadata": {
    "id": "ddcb36c4"
   },
   "outputs": [],
   "source": [
    "import os\n",
    "import warnings\n",
    "import certifi\n",
    "import pandas as pd\n",
    "import seaborn as sns\n",
    "import matplotlib.pyplot as plt\n",
    "import json\n",
    "import warnings\n",
    "warnings.filterwarnings('ignore')\n",
    "plt.rcParams[\"figure.figsize\"] = (20,10)\n",
    "import numpy as np"
   ]
  },
  {
   "cell_type": "code",
   "execution_count": 3,
   "id": "5827b967",
   "metadata": {
    "colab": {
     "base_uri": "https://localhost:8080/"
    },
    "id": "N87BmuCo2U-s",
    "outputId": "85c76a77-4255-4f7d-b78e-b60c3243e9f5"
   },
   "outputs": [
    {
     "name": "stdout",
     "output_type": "stream",
     "text": [
      "Requirement already satisfied: bnlp_toolkit in c:\\users\\propcloud\\appdata\\local\\programs\\python\\python38\\lib\\site-packages (3.2.0)\n",
      "Requirement already satisfied: wasabi in c:\\users\\propcloud\\appdata\\local\\programs\\python\\python38\\lib\\site-packages (from bnlp_toolkit) (0.10.1)\n",
      "Requirement already satisfied: gensim==4.0.1 in c:\\users\\propcloud\\appdata\\local\\programs\\python\\python38\\lib\\site-packages (from bnlp_toolkit) (4.0.1)\n",
      "Requirement already satisfied: nltk in c:\\users\\propcloud\\appdata\\local\\programs\\python\\python38\\lib\\site-packages (from bnlp_toolkit) (3.7)\n",
      "Requirement already satisfied: sklearn-crfsuite in c:\\users\\propcloud\\appdata\\local\\programs\\python\\python38\\lib\\site-packages (from bnlp_toolkit) (0.3.6)\n",
      "Requirement already satisfied: scipy in c:\\users\\propcloud\\appdata\\local\\programs\\python\\python38\\lib\\site-packages (from bnlp_toolkit) (1.9.3)\n",
      "Requirement already satisfied: tqdm in c:\\users\\propcloud\\appdata\\local\\programs\\python\\python38\\lib\\site-packages (from bnlp_toolkit) (4.64.1)\n",
      "Requirement already satisfied: sentencepiece in c:\\users\\propcloud\\appdata\\local\\programs\\python\\python38\\lib\\site-packages (from bnlp_toolkit) (0.1.97)\n",
      "Requirement already satisfied: numpy in c:\\users\\propcloud\\appdata\\local\\programs\\python\\python38\\lib\\site-packages (from bnlp_toolkit) (1.23.3)\n",
      "Requirement already satisfied: Cython==0.29.21 in c:\\users\\propcloud\\appdata\\local\\programs\\python\\python38\\lib\\site-packages (from gensim==4.0.1->bnlp_toolkit) (0.29.21)\n",
      "Requirement already satisfied: smart-open>=1.8.1 in c:\\users\\propcloud\\appdata\\local\\programs\\python\\python38\\lib\\site-packages (from gensim==4.0.1->bnlp_toolkit) (6.2.0)\n",
      "Requirement already satisfied: click in c:\\users\\propcloud\\appdata\\local\\programs\\python\\python38\\lib\\site-packages (from nltk->bnlp_toolkit) (7.1.2)\n",
      "Requirement already satisfied: regex>=2021.8.3 in c:\\users\\propcloud\\appdata\\local\\programs\\python\\python38\\lib\\site-packages (from nltk->bnlp_toolkit) (2022.10.31)\n",
      "Requirement already satisfied: joblib in c:\\users\\propcloud\\appdata\\local\\programs\\python\\python38\\lib\\site-packages (from nltk->bnlp_toolkit) (1.2.0)\n",
      "Requirement already satisfied: six in c:\\users\\propcloud\\appdata\\local\\programs\\python\\python38\\lib\\site-packages (from sklearn-crfsuite->bnlp_toolkit) (1.16.0)\n",
      "Requirement already satisfied: tabulate in c:\\users\\propcloud\\appdata\\local\\programs\\python\\python38\\lib\\site-packages (from sklearn-crfsuite->bnlp_toolkit) (0.8.10)\n",
      "Requirement already satisfied: python-crfsuite>=0.8.3 in c:\\users\\propcloud\\appdata\\local\\programs\\python\\python38\\lib\\site-packages (from sklearn-crfsuite->bnlp_toolkit) (0.9.8)\n",
      "Requirement already satisfied: colorama in c:\\users\\propcloud\\appdata\\roaming\\python\\python38\\site-packages (from tqdm->bnlp_toolkit) (0.4.5)\n"
     ]
    },
    {
     "name": "stderr",
     "output_type": "stream",
     "text": [
      "WARNING: You are using pip version 21.1.1; however, version 22.3.1 is available.\n",
      "You should consider upgrading via the 'c:\\users\\propcloud\\appdata\\local\\programs\\python\\python38\\python.exe -m pip install --upgrade pip' command.\n"
     ]
    }
   ],
   "source": [
    "!pip install bnlp_toolkit"
   ]
  },
  {
   "cell_type": "code",
   "execution_count": 4,
   "id": "1c97a5ac",
   "metadata": {
    "colab": {
     "base_uri": "https://localhost:8080/"
    },
    "id": "40PwUEZu2bht",
    "outputId": "5b6189a4-b8ca-4364-c683-b1bf1fcbd9c1"
   },
   "outputs": [],
   "source": [
    "from collections import defaultdict\n",
    "from collections import  Counter\n",
    "from bnlp.corpus import stopwords, punctuations, digits"
   ]
  },
  {
   "cell_type": "code",
   "execution_count": 5,
   "id": "9112807a",
   "metadata": {
    "colab": {
     "base_uri": "https://localhost:8080/",
     "height": 430
    },
    "id": "_P9EPIXb07OD",
    "outputId": "69e12588-1fb0-49e2-e110-b3f6f85c9d85"
   },
   "outputs": [
    {
     "name": "stdout",
     "output_type": "stream",
     "text": [
      "CPU times: total: 14.5 s\n",
      "Wall time: 14.5 s\n"
     ]
    },
    {
     "data": {
      "text/html": [
       "<div>\n",
       "<style scoped>\n",
       "    .dataframe tbody tr th:only-of-type {\n",
       "        vertical-align: middle;\n",
       "    }\n",
       "\n",
       "    .dataframe tbody tr th {\n",
       "        vertical-align: top;\n",
       "    }\n",
       "\n",
       "    .dataframe thead th {\n",
       "        text-align: right;\n",
       "    }\n",
       "</style>\n",
       "<table border=\"1\" class=\"dataframe\">\n",
       "  <thead>\n",
       "    <tr style=\"text-align: right;\">\n",
       "      <th></th>\n",
       "      <th>status_text</th>\n",
       "      <th>label</th>\n",
       "    </tr>\n",
       "  </thead>\n",
       "  <tbody>\n",
       "    <tr>\n",
       "      <th>0</th>\n",
       "      <td>গাজীপুরের কালিয়াকৈর উপজেলার তেলিরচালা এলাকায়...</td>\n",
       "      <td>bangladesh</td>\n",
       "    </tr>\n",
       "    <tr>\n",
       "      <th>1</th>\n",
       "      <td>এবারের উইম্বলডনটা স্মরণীয় করে রাখার মিশনেই যে...</td>\n",
       "      <td>sports</td>\n",
       "    </tr>\n",
       "    <tr>\n",
       "      <th>2</th>\n",
       "      <td>জাতীয় সংসদে বিএনপি চেয়ারপারসন ও বিরোধীদলীয় ...</td>\n",
       "      <td>bangladesh</td>\n",
       "    </tr>\n",
       "  </tbody>\n",
       "</table>\n",
       "</div>"
      ],
      "text/plain": [
       "                                         status_text       label\n",
       "0  গাজীপুরের কালিয়াকৈর উপজেলার তেলিরচালা এলাকায়...  bangladesh\n",
       "1  এবারের উইম্বলডনটা স্মরণীয় করে রাখার মিশনেই যে...      sports\n",
       "2  জাতীয় সংসদে বিএনপি চেয়ারপারসন ও বিরোধীদলীয় ...  bangladesh"
      ]
     },
     "execution_count": 5,
     "metadata": {},
     "output_type": "execute_result"
    }
   ],
   "source": [
    "%%time\n",
    "large_df = pd.read_csv('final_large_data.csv')\n",
    "large_df.head(3)"
   ]
  },
  {
   "cell_type": "code",
   "execution_count": 6,
   "id": "9cadaac7",
   "metadata": {
    "id": "momThPZR07Ky"
   },
   "outputs": [],
   "source": [
    "def null(data):\n",
    "    missing_percent = data.isnull().sum() * 100 / len(data)\n",
    "    total_missing = data.isnull().sum()\n",
    "    unique = data.nunique()\n",
    "    not_null = data.notnull().sum()\n",
    "    df = pd.DataFrame({'Unique Values': unique,\n",
    "                        'Value Exist': not_null,\n",
    "                        'Total_Missing': total_missing,\n",
    "                         'Missing %': missing_percent})\n",
    "    print('Data Shape: ',data.shape)\n",
    "    df = df.round(2)\n",
    "    return df"
   ]
  },
  {
   "cell_type": "code",
   "execution_count": 7,
   "id": "9194010d",
   "metadata": {},
   "outputs": [
    {
     "name": "stdout",
     "output_type": "stream",
     "text": [
      "Data Shape:  (408475, 2)\n"
     ]
    },
    {
     "data": {
      "text/html": [
       "<div>\n",
       "<style scoped>\n",
       "    .dataframe tbody tr th:only-of-type {\n",
       "        vertical-align: middle;\n",
       "    }\n",
       "\n",
       "    .dataframe tbody tr th {\n",
       "        vertical-align: top;\n",
       "    }\n",
       "\n",
       "    .dataframe thead th {\n",
       "        text-align: right;\n",
       "    }\n",
       "</style>\n",
       "<table border=\"1\" class=\"dataframe\">\n",
       "  <thead>\n",
       "    <tr style=\"text-align: right;\">\n",
       "      <th></th>\n",
       "      <th>Unique Values</th>\n",
       "      <th>Value Exist</th>\n",
       "      <th>Total_Missing</th>\n",
       "      <th>Missing %</th>\n",
       "    </tr>\n",
       "  </thead>\n",
       "  <tbody>\n",
       "    <tr>\n",
       "      <th>status_text</th>\n",
       "      <td>406882</td>\n",
       "      <td>408432</td>\n",
       "      <td>43</td>\n",
       "      <td>0.01</td>\n",
       "    </tr>\n",
       "    <tr>\n",
       "      <th>label</th>\n",
       "      <td>9</td>\n",
       "      <td>408471</td>\n",
       "      <td>4</td>\n",
       "      <td>0.00</td>\n",
       "    </tr>\n",
       "  </tbody>\n",
       "</table>\n",
       "</div>"
      ],
      "text/plain": [
       "             Unique Values  Value Exist  Total_Missing  Missing %\n",
       "status_text         406882       408432             43       0.01\n",
       "label                    9       408471              4       0.00"
      ]
     },
     "execution_count": 7,
     "metadata": {},
     "output_type": "execute_result"
    }
   ],
   "source": [
    "null(large_df)"
   ]
  },
  {
   "cell_type": "code",
   "execution_count": 8,
   "id": "dfdbb133",
   "metadata": {
    "id": "8e9fe52a"
   },
   "outputs": [],
   "source": [
    "main_df = large_df.copy()"
   ]
  },
  {
   "cell_type": "code",
   "execution_count": 9,
   "id": "901f2b1e",
   "metadata": {
    "colab": {
     "base_uri": "https://localhost:8080/"
    },
    "id": "e5e3980b",
    "outputId": "be972e54-e531-4630-c3a4-1f6eccff4753"
   },
   "outputs": [
    {
     "data": {
      "text/plain": [
       "0    গাজীপুরের কালিয়াকৈর উপজেলার তেলিরচালা এলাকায়...\n",
       "1    এবারের উইম্বলডনটা স্মরণীয় করে রাখার মিশনেই যে...\n",
       "2    জাতীয় সংসদে বিএনপি চেয়ারপারসন ও বিরোধীদলীয় ...\n",
       "3    সহজ পাসওয়ার্ডের কারণে অনলাইন অ্যাকাউন্ট সহজেই...\n",
       "4    কম্পিউটার মাউসের উদ্ভাবক ডগলাস অ্যাঙ্গেলবার্ট ...\n",
       "Name: status_text, dtype: object"
      ]
     },
     "execution_count": 9,
     "metadata": {},
     "output_type": "execute_result"
    }
   ],
   "source": [
    "main_df['status_text'].head(5)"
   ]
  },
  {
   "cell_type": "code",
   "execution_count": 10,
   "id": "755c5792",
   "metadata": {},
   "outputs": [
    {
     "name": "stdout",
     "output_type": "stream",
     "text": [
      "Data Shape:  (408428, 2)\n"
     ]
    },
    {
     "data": {
      "text/html": [
       "<div>\n",
       "<style scoped>\n",
       "    .dataframe tbody tr th:only-of-type {\n",
       "        vertical-align: middle;\n",
       "    }\n",
       "\n",
       "    .dataframe tbody tr th {\n",
       "        vertical-align: top;\n",
       "    }\n",
       "\n",
       "    .dataframe thead th {\n",
       "        text-align: right;\n",
       "    }\n",
       "</style>\n",
       "<table border=\"1\" class=\"dataframe\">\n",
       "  <thead>\n",
       "    <tr style=\"text-align: right;\">\n",
       "      <th></th>\n",
       "      <th>Unique Values</th>\n",
       "      <th>Value Exist</th>\n",
       "      <th>Total_Missing</th>\n",
       "      <th>Missing %</th>\n",
       "    </tr>\n",
       "  </thead>\n",
       "  <tbody>\n",
       "    <tr>\n",
       "      <th>status_text</th>\n",
       "      <td>406878</td>\n",
       "      <td>408428</td>\n",
       "      <td>0</td>\n",
       "      <td>0.0</td>\n",
       "    </tr>\n",
       "    <tr>\n",
       "      <th>label</th>\n",
       "      <td>9</td>\n",
       "      <td>408428</td>\n",
       "      <td>0</td>\n",
       "      <td>0.0</td>\n",
       "    </tr>\n",
       "  </tbody>\n",
       "</table>\n",
       "</div>"
      ],
      "text/plain": [
       "             Unique Values  Value Exist  Total_Missing  Missing %\n",
       "status_text         406878       408428              0        0.0\n",
       "label                    9       408428              0        0.0"
      ]
     },
     "execution_count": 10,
     "metadata": {},
     "output_type": "execute_result"
    }
   ],
   "source": [
    "main_df = main_df.dropna(inplace=False)\n",
    "null(main_df)"
   ]
  },
  {
   "cell_type": "code",
   "execution_count": 11,
   "id": "a2e4e975",
   "metadata": {
    "id": "Dh-bjSlu2ez8"
   },
   "outputs": [],
   "source": [
    "def filters(corpus):\n",
    "    res = []\n",
    "    for i in corpus:\n",
    "        try:\n",
    "            if i in stopwords:\n",
    "              continue\n",
    "\n",
    "            if i in punctuations + '‘' + '’':\n",
    "              continue\n",
    "\n",
    "            if i in digits:\n",
    "              continue\n",
    "\n",
    "            res.append(i)\n",
    "        except Exception as e:\n",
    "            pass\n",
    "\n",
    "    return res"
   ]
  },
  {
   "cell_type": "code",
   "execution_count": 13,
   "id": "b66b0a93",
   "metadata": {},
   "outputs": [
    {
     "data": {
      "text/html": [
       "<div>\n",
       "<style scoped>\n",
       "    .dataframe tbody tr th:only-of-type {\n",
       "        vertical-align: middle;\n",
       "    }\n",
       "\n",
       "    .dataframe tbody tr th {\n",
       "        vertical-align: top;\n",
       "    }\n",
       "\n",
       "    .dataframe thead th {\n",
       "        text-align: right;\n",
       "    }\n",
       "</style>\n",
       "<table border=\"1\" class=\"dataframe\">\n",
       "  <thead>\n",
       "    <tr style=\"text-align: right;\">\n",
       "      <th></th>\n",
       "      <th>status_text</th>\n",
       "      <th>label</th>\n",
       "    </tr>\n",
       "  </thead>\n",
       "  <tbody>\n",
       "    <tr>\n",
       "      <th>0</th>\n",
       "      <td>[গাজীপুরের, কালিয়াকৈর, উপজেলার, তেলিরচালা, এল...</td>\n",
       "      <td>bangladesh</td>\n",
       "    </tr>\n",
       "    <tr>\n",
       "      <th>1</th>\n",
       "      <td>[এবারের, উইম্বলডনটা, স্মরণীয়, করে, রাখার, মিশ...</td>\n",
       "      <td>sports</td>\n",
       "    </tr>\n",
       "    <tr>\n",
       "      <th>2</th>\n",
       "      <td>[জাতীয়, সংসদে, বিএনপি, চেয়ারপারসন, ও, বিরোধী...</td>\n",
       "      <td>bangladesh</td>\n",
       "    </tr>\n",
       "    <tr>\n",
       "      <th>3</th>\n",
       "      <td>[সহজ, পাসওয়ার্ডের, কারণে, অনলাইন, অ্যাকাউন্ট,...</td>\n",
       "      <td>technology</td>\n",
       "    </tr>\n",
       "    <tr>\n",
       "      <th>4</th>\n",
       "      <td>[কম্পিউটার, মাউসের, উদ্ভাবক, ডগলাস, অ্যাঙ্গেলব...</td>\n",
       "      <td>technology</td>\n",
       "    </tr>\n",
       "  </tbody>\n",
       "</table>\n",
       "</div>"
      ],
      "text/plain": [
       "                                         status_text       label\n",
       "0  [গাজীপুরের, কালিয়াকৈর, উপজেলার, তেলিরচালা, এল...  bangladesh\n",
       "1  [এবারের, উইম্বলডনটা, স্মরণীয়, করে, রাখার, মিশ...      sports\n",
       "2  [জাতীয়, সংসদে, বিএনপি, চেয়ারপারসন, ও, বিরোধী...  bangladesh\n",
       "3  [সহজ, পাসওয়ার্ডের, কারণে, অনলাইন, অ্যাকাউন্ট,...  technology\n",
       "4  [কম্পিউটার, মাউসের, উদ্ভাবক, ডগলাস, অ্যাঙ্গেলব...  technology"
      ]
     },
     "execution_count": 13,
     "metadata": {},
     "output_type": "execute_result"
    }
   ],
   "source": [
    "main_df['status_text'] = main_df['status_text'].str.split()\n",
    "main_df.head(5)"
   ]
  },
  {
   "cell_type": "code",
   "execution_count": 14,
   "id": "cc130943",
   "metadata": {
    "id": "25bbaa5d"
   },
   "outputs": [
    {
     "name": "stdout",
     "output_type": "stream",
     "text": [
      "CPU times: total: 5min 31s\n",
      "Wall time: 5min 31s\n"
     ]
    },
    {
     "data": {
      "text/html": [
       "<div>\n",
       "<style scoped>\n",
       "    .dataframe tbody tr th:only-of-type {\n",
       "        vertical-align: middle;\n",
       "    }\n",
       "\n",
       "    .dataframe tbody tr th {\n",
       "        vertical-align: top;\n",
       "    }\n",
       "\n",
       "    .dataframe thead th {\n",
       "        text-align: right;\n",
       "    }\n",
       "</style>\n",
       "<table border=\"1\" class=\"dataframe\">\n",
       "  <thead>\n",
       "    <tr style=\"text-align: right;\">\n",
       "      <th></th>\n",
       "      <th>status_text</th>\n",
       "      <th>label</th>\n",
       "    </tr>\n",
       "  </thead>\n",
       "  <tbody>\n",
       "    <tr>\n",
       "      <th>0</th>\n",
       "      <td>[গাজীপুরের, কালিয়াকৈর, উপজেলার, তেলিরচালা, এল...</td>\n",
       "      <td>bangladesh</td>\n",
       "    </tr>\n",
       "    <tr>\n",
       "      <th>1</th>\n",
       "      <td>[এবারের, উইম্বলডনটা, স্মরণীয়, রাখার, মিশনেই, ...</td>\n",
       "      <td>sports</td>\n",
       "    </tr>\n",
       "    <tr>\n",
       "      <th>2</th>\n",
       "      <td>[জাতীয়, সংসদে, বিএনপি, চেয়ারপারসন, বিরোধীদলী...</td>\n",
       "      <td>bangladesh</td>\n",
       "    </tr>\n",
       "    <tr>\n",
       "      <th>3</th>\n",
       "      <td>[সহজ, পাসওয়ার্ডের, কারণে, অনলাইন, অ্যাকাউন্ট,...</td>\n",
       "      <td>technology</td>\n",
       "    </tr>\n",
       "    <tr>\n",
       "      <th>4</th>\n",
       "      <td>[কম্পিউটার, মাউসের, উদ্ভাবক, ডগলাস, অ্যাঙ্গেলব...</td>\n",
       "      <td>technology</td>\n",
       "    </tr>\n",
       "  </tbody>\n",
       "</table>\n",
       "</div>"
      ],
      "text/plain": [
       "                                         status_text       label\n",
       "0  [গাজীপুরের, কালিয়াকৈর, উপজেলার, তেলিরচালা, এল...  bangladesh\n",
       "1  [এবারের, উইম্বলডনটা, স্মরণীয়, রাখার, মিশনেই, ...      sports\n",
       "2  [জাতীয়, সংসদে, বিএনপি, চেয়ারপারসন, বিরোধীদলী...  bangladesh\n",
       "3  [সহজ, পাসওয়ার্ডের, কারণে, অনলাইন, অ্যাকাউন্ট,...  technology\n",
       "4  [কম্পিউটার, মাউসের, উদ্ভাবক, ডগলাস, অ্যাঙ্গেলব...  technology"
      ]
     },
     "execution_count": 14,
     "metadata": {},
     "output_type": "execute_result"
    }
   ],
   "source": [
    "%%time\n",
    "try:\n",
    "    main_df['status_text'] = main_df['status_text'].apply(filters)\n",
    "except Exception as e:\n",
    "    pass\n",
    "main_df.head(5)"
   ]
  },
  {
   "cell_type": "code",
   "execution_count": 15,
   "id": "60413e46",
   "metadata": {
    "colab": {
     "base_uri": "https://localhost:8080/"
    },
    "id": "0a193725",
    "outputId": "bacc859c-7bb9-4d04-ecab-f435f8501958"
   },
   "outputs": [
    {
     "data": {
      "text/plain": [
       "(408428, 2)"
      ]
     },
     "execution_count": 15,
     "metadata": {},
     "output_type": "execute_result"
    }
   ],
   "source": [
    "main_df.shape"
   ]
  },
  {
   "cell_type": "code",
   "execution_count": 16,
   "id": "c493d929",
   "metadata": {
    "colab": {
     "base_uri": "https://localhost:8080/",
     "height": 192
    },
    "id": "7668d0da",
    "outputId": "25369309-05ff-4ca4-f46d-5ee78018f38f"
   },
   "outputs": [
    {
     "name": "stdout",
     "output_type": "stream",
     "text": [
      "(408428, 2)\n"
     ]
    },
    {
     "data": {
      "text/html": [
       "<div>\n",
       "<style scoped>\n",
       "    .dataframe tbody tr th:only-of-type {\n",
       "        vertical-align: middle;\n",
       "    }\n",
       "\n",
       "    .dataframe tbody tr th {\n",
       "        vertical-align: top;\n",
       "    }\n",
       "\n",
       "    .dataframe thead th {\n",
       "        text-align: right;\n",
       "    }\n",
       "</style>\n",
       "<table border=\"1\" class=\"dataframe\">\n",
       "  <thead>\n",
       "    <tr style=\"text-align: right;\">\n",
       "      <th></th>\n",
       "      <th>status_text</th>\n",
       "      <th>label</th>\n",
       "    </tr>\n",
       "  </thead>\n",
       "  <tbody>\n",
       "    <tr>\n",
       "      <th>0</th>\n",
       "      <td>[গাজীপুরের, কালিয়াকৈর, উপজেলার, তেলিরচালা, এল...</td>\n",
       "      <td>bangladesh</td>\n",
       "    </tr>\n",
       "    <tr>\n",
       "      <th>1</th>\n",
       "      <td>[এবারের, উইম্বলডনটা, স্মরণীয়, রাখার, মিশনেই, ...</td>\n",
       "      <td>sports</td>\n",
       "    </tr>\n",
       "    <tr>\n",
       "      <th>2</th>\n",
       "      <td>[জাতীয়, সংসদে, বিএনপি, চেয়ারপারসন, বিরোধীদলী...</td>\n",
       "      <td>bangladesh</td>\n",
       "    </tr>\n",
       "    <tr>\n",
       "      <th>3</th>\n",
       "      <td>[সহজ, পাসওয়ার্ডের, কারণে, অনলাইন, অ্যাকাউন্ট,...</td>\n",
       "      <td>technology</td>\n",
       "    </tr>\n",
       "  </tbody>\n",
       "</table>\n",
       "</div>"
      ],
      "text/plain": [
       "                                         status_text       label\n",
       "0  [গাজীপুরের, কালিয়াকৈর, উপজেলার, তেলিরচালা, এল...  bangladesh\n",
       "1  [এবারের, উইম্বলডনটা, স্মরণীয়, রাখার, মিশনেই, ...      sports\n",
       "2  [জাতীয়, সংসদে, বিএনপি, চেয়ারপারসন, বিরোধীদলী...  bangladesh\n",
       "3  [সহজ, পাসওয়ার্ডের, কারণে, অনলাইন, অ্যাকাউন্ট,...  technology"
      ]
     },
     "execution_count": 16,
     "metadata": {},
     "output_type": "execute_result"
    }
   ],
   "source": [
    "data = main_df.copy()\n",
    "print(data.shape)\n",
    "data.head(4)"
   ]
  },
  {
   "cell_type": "code",
   "execution_count": 17,
   "id": "adbada47",
   "metadata": {
    "id": "f80de472"
   },
   "outputs": [],
   "source": [
    "data = data[['status_text', 'label']]\n",
    "data.dropna(inplace=True)"
   ]
  },
  {
   "cell_type": "markdown",
   "id": "1f8364a2",
   "metadata": {
    "id": "aa338417"
   },
   "source": [
    "### Multinomial NB processing"
   ]
  },
  {
   "cell_type": "code",
   "execution_count": 18,
   "id": "bc2e333b",
   "metadata": {
    "id": "409a5b3c"
   },
   "outputs": [],
   "source": [
    "from sklearn.feature_extraction.text import CountVectorizer\n",
    "from sklearn.feature_extraction.text import TfidfVectorizer\n",
    "from sklearn.pipeline import Pipeline\n",
    "from sklearn.svm import LinearSVC\n",
    "from sklearn.naive_bayes import MultinomialNB\n",
    "#from ruleparser import RuleParser\n",
    "from sklearn.metrics import accuracy_score, confusion_matrix, precision_recall_fscore_support\n",
    "import re\n",
    "from sklearn.svm import SVC\n",
    "from sklearn.metrics import classification_report\n",
    "from sklearn.model_selection import cross_val_score, GridSearchCV"
   ]
  },
  {
   "cell_type": "code",
   "execution_count": 19,
   "id": "688cac67",
   "metadata": {
    "id": "6cddbc8d"
   },
   "outputs": [],
   "source": [
    "# a dummy function that just returns its input\n",
    "def identity(x):\n",
    "    return x"
   ]
  },
  {
   "cell_type": "code",
   "execution_count": 20,
   "id": "4c296f68",
   "metadata": {
    "id": "f9aa0d4e"
   },
   "outputs": [],
   "source": [
    "from sklearn.metrics import accuracy_score, recall_score, precision_score, f1_score, confusion_matrix, roc_auc_score, cohen_kappa_score\n",
    "\n",
    "def Multinomial_Naive_Bayes(trainDoc, trainClass, testDoc, testClass, tfIdf):\n",
    "\n",
    "    # we use a dummy function as tokenizer and preprocessor,\n",
    "    # since the texts are already preprocessed and tokenized.\n",
    "    if tfIdf:\n",
    "        vec = TfidfVectorizer(preprocessor = identity,\n",
    "                              tokenizer = identity)\n",
    "   \n",
    "\n",
    "    # Pipeline combines the vectorizers with a Naive Bayes classifier\n",
    "    classifier = Pipeline( [('vec', vec),\n",
    "                            ('cls', MultinomialNB())] )\n",
    "\n",
    "\n",
    "    # Train the classifier and build a model using the training documents\n",
    "    classifier.fit(trainDoc, trainClass)\n",
    "    \n",
    "    #saving the model\n",
    "    import joblib\n",
    "    joblib.dump(classifier, 'NB_model.pkl')\n",
    "    \n",
    "    '''\n",
    "    #Loading the model:\n",
    "    NB_spam_model = open('NB_model.pkl','rb')\n",
    "    classifier = joblib.load(NB_spam_model)\n",
    "    '''\n",
    "    # Outputs Predicted class for the test set\n",
    "    testGuess = classifier.predict(testDoc)\n",
    "    \n",
    "    try:\n",
    "        #inputfile = open(\"input_nb.txt\",\"r\", encoding='utf-8')\n",
    "        valDOC, valLBL = read_corpus('input_nb.txt', use_sentiment=False)\n",
    "        predz = classifier.predict(valDOC)\n",
    "        i=0\n",
    "        for line in valDOC:\n",
    "            print(line, predz[i])\n",
    "            i+=1\n",
    "        #inputfile.close()\n",
    "    except:\n",
    "        pass\n",
    "\n",
    "    prec, rec, f1, tureSum= precision_recall_fscore_support(testClass, testGuess)\n",
    "    #classguess = classifier.predict(predict)\n",
    "    #print(\"predicted class:\", classguess)\n",
    "\n",
    "    # Simply calculates the accuracy score using the Gold Labels and Predicted Labels\n",
    "    print(\"Naive Bayes with TF-idf:\")\n",
    "    accuracy = accuracy_score(testClass, testGuess)\n",
    "\n",
    "    labels = testClass\n",
    "    guesses = testGuess\n",
    "    print('Accuracy: %f' % accuracy)\n",
    "    # precision tp / (tp + fp)\n",
    "    precision = precision_score(labels, guesses, average='micro')\n",
    "    print('Precision: %f' % precision)\n",
    "    # recall: tp / (tp + fn)\n",
    "    recall = recall_score(labels, guesses, average='micro')\n",
    "    print('Recall: %f' % recall)\n",
    "    # f1: 2 tp / (2 tp + fp + fn)\n",
    "    f1 = f1_score(labels, guesses, average='micro')\n",
    "    print('F1 score: %f' % f1)\n",
    "    print(\"\\n\")\n",
    "    # Showing the Confusion Matrix\n",
    "    print(\"\\nConfusion Matrix:\")\n",
    "    cm = confusion_matrix(testClass, testGuess, labels=classifier.classes_)\n",
    "    prec, rec, f1, tureSum= precision_recall_fscore_support(testClass, testGuess)\n",
    "    print(classifier.classes_)\n",
    "    print(cm)\n",
    "#     import seaborn as sns\n",
    "#     sns.heatmap(cm, annot=True)"
   ]
  },
  {
   "cell_type": "code",
   "execution_count": 21,
   "id": "0bcf2215",
   "metadata": {
    "id": "b418aafd"
   },
   "outputs": [],
   "source": [
    "# this is the main function but you can name it anyway you want\n",
    "def main():\n",
    "    DOC = data['status_text'].to_list()\n",
    "    LBL = data['label'].to_list()\n",
    "    \n",
    "    #print(predict)\n",
    "    print(\"length of doc =\", len(DOC))\n",
    "\n",
    "    # Splits the dataset into training (90%) and test set(10%)\n",
    "    split_point = int(0.90*len(DOC))\n",
    "    trainDoc = DOC[:split_point]\n",
    "    trainClass = LBL[:split_point]\n",
    "    testDoc = DOC[split_point:]\n",
    "    testClass = LBL[split_point:]\n",
    "\n",
    "    print(\"Train data: \", len(trainDoc))\n",
    "    print(\"Test data: \", len(testDoc))\n",
    "\n",
    "\n",
    "    # Calling the classifier (use the tf-idf/count feature/vectorizer)\n",
    "    \n",
    "    Multinomial_Naive_Bayes(trainDoc, trainClass, testDoc, testClass, tfIdf=True)"
   ]
  },
  {
   "cell_type": "code",
   "execution_count": 22,
   "id": "03274f7f",
   "metadata": {
    "colab": {
     "base_uri": "https://localhost:8080/"
    },
    "id": "6083bedf",
    "outputId": "020c09ff-bf6d-4312-9c52-87ca2951a2c4"
   },
   "outputs": [
    {
     "name": "stdout",
     "output_type": "stream",
     "text": [
      "length of doc = 408428\n",
      "Train data:  367585\n",
      "Test data:  40843\n",
      "Naive Bayes with TF-idf:\n",
      "Accuracy: 0.650393\n",
      "Precision: 0.650393\n",
      "Recall: 0.650393\n",
      "F1 score: 0.650393\n",
      "\n",
      "\n",
      "\n",
      "Confusion Matrix:\n",
      "['bangladesh' 'economy' 'education' 'entertainment' 'international'\n",
      " 'life-style' 'opinion' 'sports' 'technology']\n",
      "[[18008     0     0     0     0     0     0     4     0]\n",
      " [ 1412    84     0     0     0     0     0     1     0]\n",
      " [  350     0     0     0     0     0     0     1     0]\n",
      " [ 2881     0     0  1457     0     0     0    31     0]\n",
      " [ 3915     0     0     0   102     0     0     4     0]\n",
      " [ 1200     0     0     3     0   100     0     4     0]\n",
      " [ 2638     0     0     0     6     0     1    11     0]\n",
      " [  484     0     0     0     0     0     0  6594     0]\n",
      " [ 1328     0     0     0     0     0     0     6   218]]\n",
      "CPU times: total: 54.6 s\n",
      "Wall time: 54.6 s\n"
     ]
    }
   ],
   "source": [
    "%%time\n",
    "if __name__ == '__main__':\n",
    "    main()"
   ]
  },
  {
   "cell_type": "code",
   "execution_count": null,
   "id": "c20f7b1e",
   "metadata": {},
   "outputs": [],
   "source": []
  }
 ],
 "metadata": {
  "celltoolbar": "Tags",
  "colab": {
   "provenance": []
  },
  "gpuClass": "standard",
  "kernelspec": {
   "display_name": "Python 3 (ipykernel)",
   "language": "python",
   "name": "python3"
  },
  "language_info": {
   "codemirror_mode": {
    "name": "ipython",
    "version": 3
   },
   "file_extension": ".py",
   "mimetype": "text/x-python",
   "name": "python",
   "nbconvert_exporter": "python",
   "pygments_lexer": "ipython3",
   "version": "3.9.7"
  }
 },
 "nbformat": 4,
 "nbformat_minor": 5
}
