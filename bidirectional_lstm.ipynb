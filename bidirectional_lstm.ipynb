{
 "cells": [
  {
   "cell_type": "code",
   "execution_count": 1,
   "metadata": {
    "id": "qma7xZXQVflx"
   },
   "outputs": [],
   "source": [
    "import os\n",
    "import warnings\n",
    "import certifi\n",
    "import pandas as pd\n",
    "import seaborn as sns\n",
    "import matplotlib.pyplot as plt\n",
    "import json\n",
    "import warnings\n",
    "warnings.filterwarnings('ignore')\n",
    "plt.rcParams[\"figure.figsize\"] = (20,10)\n",
    "import numpy as np\n",
    "import pickle\n",
    "from collections import Counter"
   ]
  },
  {
   "cell_type": "code",
   "execution_count": 2,
   "metadata": {},
   "outputs": [],
   "source": [
    "df = pd.read_csv('final_large_data.csv')"
   ]
  },
  {
   "cell_type": "code",
   "execution_count": 3,
   "metadata": {},
   "outputs": [],
   "source": [
    "def analysis(data):\n",
    "    missing_percent = data.isnull().sum() * 100 / len(data)\n",
    "    total_missing = data.isnull().sum()\n",
    "    unique = data.nunique()\n",
    "    not_null = data.notnull().sum()\n",
    "    df = pd.DataFrame({'Unique Values': unique,\n",
    "                        'Value Exist': not_null,\n",
    "                        'Total_Missing': total_missing,\n",
    "                         'Missing %': missing_percent})\n",
    "    print('Data Shape: ',data.shape)\n",
    "    df = df.round(2)\n",
    "    return df"
   ]
  },
  {
   "cell_type": "code",
   "execution_count": 4,
   "metadata": {},
   "outputs": [
    {
     "name": "stdout",
     "output_type": "stream",
     "text": [
      "Data Shape:  (408428, 2)\n"
     ]
    },
    {
     "data": {
      "text/html": [
       "<div>\n",
       "<style scoped>\n",
       "    .dataframe tbody tr th:only-of-type {\n",
       "        vertical-align: middle;\n",
       "    }\n",
       "\n",
       "    .dataframe tbody tr th {\n",
       "        vertical-align: top;\n",
       "    }\n",
       "\n",
       "    .dataframe thead th {\n",
       "        text-align: right;\n",
       "    }\n",
       "</style>\n",
       "<table border=\"1\" class=\"dataframe\">\n",
       "  <thead>\n",
       "    <tr style=\"text-align: right;\">\n",
       "      <th></th>\n",
       "      <th>Unique Values</th>\n",
       "      <th>Value Exist</th>\n",
       "      <th>Total_Missing</th>\n",
       "      <th>Missing %</th>\n",
       "    </tr>\n",
       "  </thead>\n",
       "  <tbody>\n",
       "    <tr>\n",
       "      <th>status_text</th>\n",
       "      <td>406878</td>\n",
       "      <td>408428</td>\n",
       "      <td>0</td>\n",
       "      <td>0.0</td>\n",
       "    </tr>\n",
       "    <tr>\n",
       "      <th>label</th>\n",
       "      <td>9</td>\n",
       "      <td>408428</td>\n",
       "      <td>0</td>\n",
       "      <td>0.0</td>\n",
       "    </tr>\n",
       "  </tbody>\n",
       "</table>\n",
       "</div>"
      ],
      "text/plain": [
       "             Unique Values  Value Exist  Total_Missing  Missing %\n",
       "status_text         406878       408428              0        0.0\n",
       "label                    9       408428              0        0.0"
      ]
     },
     "execution_count": 4,
     "metadata": {},
     "output_type": "execute_result"
    }
   ],
   "source": [
    "df.dropna(inplace=True)\n",
    "analysis(df)"
   ]
  },
  {
   "cell_type": "code",
   "execution_count": 5,
   "metadata": {},
   "outputs": [],
   "source": [
    "X_text = df['status_text'].values\n",
    "y_label = df['label'].values"
   ]
  },
  {
   "cell_type": "code",
   "execution_count": 6,
   "metadata": {
    "colab": {
     "base_uri": "https://localhost:8080/"
    },
    "id": "hruRB5xoaGla",
    "outputId": "0e7f5fcf-be43-43a9-9e06-e22dc8763502"
   },
   "outputs": [
    {
     "data": {
      "text/plain": [
       "408428"
      ]
     },
     "execution_count": 6,
     "metadata": {},
     "output_type": "execute_result"
    }
   ],
   "source": [
    "len(X_text)"
   ]
  },
  {
   "cell_type": "code",
   "execution_count": 7,
   "metadata": {
    "colab": {
     "base_uri": "https://localhost:8080/"
    },
    "id": "63DyW8YzaLXb",
    "outputId": "72670dbe-27ad-434e-fe74-b69b6b0f4fc6"
   },
   "outputs": [
    {
     "data": {
      "text/plain": [
       "408428"
      ]
     },
     "execution_count": 7,
     "metadata": {},
     "output_type": "execute_result"
    }
   ],
   "source": [
    "len(y_label)"
   ]
  },
  {
   "cell_type": "code",
   "execution_count": 8,
   "metadata": {
    "colab": {
     "base_uri": "https://localhost:8080/",
     "height": 122
    },
    "id": "7zJQu9i7aNvM",
    "outputId": "09f9e989-31e3-475c-a0d6-74117a109cf8"
   },
   "outputs": [
    {
     "data": {
      "text/plain": [
       "'গাজীপুরের কালিয়াকৈর উপজেলার তেলিরচালা এলাকায় আজ বৃহস্পতিবার রাতের টিফিন খেয়ে একটি পোশাক কারখানার ৫০০ শ্রমিক অসুস্থ হয়ে পড়েছেন। এ ঘটনায় বিক্ষোভ করেছেন ওই কারখানার শ্রমিকেরা।সফিপুর মডার্ন হাসপাতালের জরুরি বিভাগের চিকিত্সক আল আমিন প্রথম আলো ডটকমকে বলেন, খাদ্যে বিষক্রিয়ায় তাঁরা (শ্রমিকেরা) অসুস্থ হয়ে পড়েছেন। এতে আতঙ্কিত হওয়ার কিছু নেই। অসুস্থদের চিকিত্সা দেওয়া হয়েছে।কারখানার শ্রমিক ও পুলিশ সূত্রে জানা যায়, উপজেলার তেলিরচালা এলাকার সেজাদ সোয়েটার লিমিটেড কারখানার শ্রমিকদের আজ রাত সাড়ে সাতটার দিকে টিফিন দেওয়া হয়। টিফিনে ছিল ডিম, রুটি, পেটিস ও কলা। টিফিন খেয়ে শ্রমিকেরা যথারীতি কাজে যোগ দেন। ওই টিফিন খাওয়ার প্রায় এক ঘণ্টা পর রাত সাড়ে আটটার দিকে কয়েকজন শ্রমিকের বমি ও পেট ব্যথা শুরু হয়। এরপর ধীরে ধীরে পুরো কারখানার শ্রমিকেরা অসুস্থ হতে থাকে। অনেকেই কারখানার মেঝেতে ঢলে পড়ে। এতে পাঁচ শতাধিক শ্রমিক অসুস্থ হয়ে পড়ে।পরে কারখানা কর্তৃপক্ষ দ্রুত যানবাহনের ব্যবস্থা করে তাদের সফিপুর জেনারেল হাসপাতাল, সফিপুর মডার্ন হাসপাতাল, উপজেলা স্বাস্থ্য কমপ্লেক্সসহ বিভিন্ন ক্লিনিকে ভর্তি করে। বাসি পচা খাবার দেওয়ায় শ্রমিকরা ক্ষুব্ধ হয়ে কারখানার সামনে বিক্ষোভ করে। খবর পেয়ে পুলিশ গিয়ে শ্রমিকদের বুঝিয়ে ও খাবার সরবরাহ প্রতিষ্ঠানের বিরুদ্ধে ব্যবস্থা নেওয়ার আশ্বাস দিলে শ্রমিকেরা শান্ত হয়।সফিপুর জেনারেল হাসপাতালে ভর্তি শ্রমিক জাকির হোসেন ও আসমা আক্তার বলেন, টিফিন খাওয়ার সময় ডিম ও কেক থেকে দুর্গন্ধ বের হচ্ছিল। এ কারণে অনেকেই ওই খাবার খায়নি। তবে বেশির ভাগ শ্রমিকই ওই খাবার খেয়েছে।কারখানার সহকারী উত্পাদন কর্মকর্তা (এপিএম) বছির উদ্দিন বলেন, টিফিনগুলি যে ঠিকাদারি প্রতিষ্ঠান কারখানায় সরবরাহ করে তাদের বিরুদ্ধে ব্যবস্থা নেওয়া হবে।মৌচাক পুলিশ ফাঁড়ির উপ-পরিদর্শক (এসআই) সৈয়দ আজহারুল ইসলাম প্রথম আলো ডটকমকে বলেন, শ্রমিকদের বুঝিয়ে শান্ত করা হয়েছে। এ ছাড়া কারখানা কর্তৃপক্ষকে খাদ্য সরবরাহ প্রতিষ্ঠানের বিরুদ্ধে ব্যবস্থা নিতে বলা হয়েছে।'"
      ]
     },
     "execution_count": 8,
     "metadata": {},
     "output_type": "execute_result"
    }
   ],
   "source": [
    "X_text[0]"
   ]
  },
  {
   "cell_type": "code",
   "execution_count": 9,
   "metadata": {
    "colab": {
     "base_uri": "https://localhost:8080/",
     "height": 35
    },
    "id": "mgxM29_ZaRqq",
    "outputId": "a2484875-106f-4c24-b679-68468f5a71c4"
   },
   "outputs": [
    {
     "data": {
      "text/plain": [
       "'bangladesh'"
      ]
     },
     "execution_count": 9,
     "metadata": {},
     "output_type": "execute_result"
    }
   ],
   "source": [
    "y_label[0]"
   ]
  },
  {
   "cell_type": "code",
   "execution_count": 10,
   "metadata": {
    "colab": {
     "base_uri": "https://localhost:8080/"
    },
    "id": "a4nZEZO-aUsb",
    "outputId": "4c9e8e3c-b81a-4d40-e743-7575213854ca"
   },
   "outputs": [
    {
     "data": {
      "text/plain": [
       "{'bangladesh',\n",
       " 'economy',\n",
       " 'education',\n",
       " 'entertainment',\n",
       " 'international',\n",
       " 'life-style',\n",
       " 'opinion',\n",
       " 'sports',\n",
       " 'technology'}"
      ]
     },
     "execution_count": 10,
     "metadata": {},
     "output_type": "execute_result"
    }
   ],
   "source": [
    "set(y_label)"
   ]
  },
  {
   "cell_type": "code",
   "execution_count": 11,
   "metadata": {
    "colab": {
     "base_uri": "https://localhost:8080/"
    },
    "id": "j-yMjhH9aXMz",
    "outputId": "ba8e86aa-7645-4896-ae20-6af74165bc1e"
   },
   "outputs": [
    {
     "name": "stdout",
     "output_type": "stream",
     "text": [
      "408428\n",
      "408428\n"
     ]
    }
   ],
   "source": [
    "print(len(X_text))\n",
    "print(len(y_label))"
   ]
  },
  {
   "cell_type": "code",
   "execution_count": 12,
   "metadata": {},
   "outputs": [
    {
     "data": {
      "text/plain": [
       "numpy.ndarray"
      ]
     },
     "execution_count": 12,
     "metadata": {},
     "output_type": "execute_result"
    }
   ],
   "source": [
    "type(y_label)"
   ]
  },
  {
   "cell_type": "code",
   "execution_count": 13,
   "metadata": {
    "id": "SdzZ_TqTabBT"
   },
   "outputs": [],
   "source": [
    "from sklearn.preprocessing import LabelEncoder\n",
    "\n",
    "encoder = LabelEncoder()\n",
    "class_labels = encoder.fit_transform(y_label)"
   ]
  },
  {
   "cell_type": "code",
   "execution_count": 14,
   "metadata": {
    "colab": {
     "base_uri": "https://localhost:8080/"
    },
    "id": "_VhdEywuaeOb",
    "outputId": "927bbbab-3541-4ed4-b5b2-77bd88823cb1"
   },
   "outputs": [
    {
     "data": {
      "text/plain": [
       "{0, 1, 2, 3, 4, 5, 6, 7, 8}"
      ]
     },
     "execution_count": 14,
     "metadata": {},
     "output_type": "execute_result"
    }
   ],
   "source": [
    "set(class_labels)"
   ]
  },
  {
   "cell_type": "code",
   "execution_count": 15,
   "metadata": {
    "colab": {
     "base_uri": "https://localhost:8080/"
    },
    "id": "l5Y77YA1axI6",
    "outputId": "76ed1b58-4c13-4252-c1c0-c25cb4d51b1c"
   },
   "outputs": [
    {
     "data": {
      "text/plain": [
       "array(['entertainment'], dtype=object)"
      ]
     },
     "execution_count": 15,
     "metadata": {},
     "output_type": "execute_result"
    }
   ],
   "source": [
    "encoder.inverse_transform([[3]])"
   ]
  },
  {
   "cell_type": "code",
   "execution_count": 16,
   "metadata": {
    "colab": {
     "base_uri": "https://localhost:8080/"
    },
    "id": "lgbTa99-a0a5",
    "outputId": "f251f8dd-a296-4618-f67e-613b31a7116f"
   },
   "outputs": [
    {
     "data": {
      "text/plain": [
       "(408428,)"
      ]
     },
     "execution_count": 16,
     "metadata": {},
     "output_type": "execute_result"
    }
   ],
   "source": [
    "class_labels.shape"
   ]
  },
  {
   "cell_type": "code",
   "execution_count": 17,
   "metadata": {
    "id": "15lQrtWGa52a"
   },
   "outputs": [],
   "source": [
    "from sklearn.preprocessing import OneHotEncoder\n",
    "\n",
    "encoder = OneHotEncoder(sparse=False)\n",
    "class_labels = class_labels.reshape((class_labels.shape[0], 1))\n",
    "y_ohe = encoder.fit_transform(class_labels)"
   ]
  },
  {
   "cell_type": "code",
   "execution_count": 18,
   "metadata": {
    "colab": {
     "base_uri": "https://localhost:8080/"
    },
    "id": "tISkcKZXa9di",
    "outputId": "624f2ffa-d38d-4c3f-b1de-2be794a47a0b"
   },
   "outputs": [
    {
     "data": {
      "text/plain": [
       "array([0])"
      ]
     },
     "execution_count": 18,
     "metadata": {},
     "output_type": "execute_result"
    }
   ],
   "source": [
    "class_labels[0]"
   ]
  },
  {
   "cell_type": "code",
   "execution_count": 19,
   "metadata": {
    "colab": {
     "base_uri": "https://localhost:8080/"
    },
    "id": "gSK1cFSrbCAD",
    "outputId": "33b3fc95-8c0b-4062-dee1-8954f855b30c"
   },
   "outputs": [
    {
     "data": {
      "text/plain": [
       "array([[1., 0., 0., ..., 0., 0., 0.],\n",
       "       [0., 0., 0., ..., 0., 1., 0.],\n",
       "       [1., 0., 0., ..., 0., 0., 0.],\n",
       "       ...,\n",
       "       [0., 0., 0., ..., 0., 1., 0.],\n",
       "       [0., 0., 0., ..., 0., 1., 0.],\n",
       "       [1., 0., 0., ..., 0., 0., 0.]])"
      ]
     },
     "execution_count": 19,
     "metadata": {},
     "output_type": "execute_result"
    }
   ],
   "source": [
    "y_ohe"
   ]
  },
  {
   "cell_type": "code",
   "execution_count": 20,
   "metadata": {
    "colab": {
     "base_uri": "https://localhost:8080/"
    },
    "id": "VMOoEy4ObEpL",
    "outputId": "72425c70-038f-4ebf-d781-86ea212605f3"
   },
   "outputs": [
    {
     "data": {
      "text/plain": [
       "(408428, 9)"
      ]
     },
     "execution_count": 20,
     "metadata": {},
     "output_type": "execute_result"
    }
   ],
   "source": [
    "y_ohe.shape"
   ]
  },
  {
   "cell_type": "code",
   "execution_count": null,
   "metadata": {
    "id": "7Blv8IY-bGyz"
   },
   "outputs": [],
   "source": [
    "from keras.preprocessing.text import Tokenizer\n",
    "\n",
    "tokenizer = Tokenizer()\n",
    "tokenizer.fit_on_texts(X_text)\n",
    "\n",
    "X_token = tokenizer.texts_to_sequences(X_text)\n",
    "\n",
    "vocab_size = len(tokenizer.word_index) + 1  # Adding 1 because of reserved 0 index"
   ]
  },
  {
   "cell_type": "code",
   "execution_count": 37,
   "metadata": {
    "colab": {
     "base_uri": "https://localhost:8080/"
    },
    "id": "HK7P54whbKp7",
    "outputId": "92d9d521-a7bb-49ef-aba3-5d6811dcf773"
   },
   "outputs": [
    {
     "data": {
      "text/plain": [
       "2413449"
      ]
     },
     "execution_count": 37,
     "metadata": {},
     "output_type": "execute_result"
    }
   ],
   "source": [
    "vocab_size"
   ]
  },
  {
   "cell_type": "code",
   "execution_count": 38,
   "metadata": {
    "colab": {
     "base_uri": "https://localhost:8080/"
    },
    "id": "EIV398GabR7i",
    "outputId": "7b2e5e83-5d87-4721-b12d-9a9d22446f97"
   },
   "outputs": [
    {
     "data": {
      "text/plain": [
       "[[23713,\n",
       "  1802,\n",
       "  467,\n",
       "  1098,\n",
       "  49,\n",
       "  1327,\n",
       "  158,\n",
       "  2576,\n",
       "  30,\n",
       "  832,\n",
       "  7,\n",
       "  127,\n",
       "  731,\n",
       "  910,\n",
       "  612,\n",
       "  7126,\n",
       "  4199,\n",
       "  5,\n",
       "  15,\n",
       "  1310,\n",
       "  1499,\n",
       "  767,\n",
       "  14,\n",
       "  28345,\n",
       "  577,\n",
       "  1499,\n",
       "  767,\n",
       "  148,\n",
       "  803,\n",
       "  770,\n",
       "  6,\n",
       "  49,\n",
       "  490,\n",
       "  2810,\n",
       "  67,\n",
       "  5441,\n",
       "  202,\n",
       "  1025,\n",
       "  155,\n",
       "  4234,\n",
       "  53,\n",
       "  625,\n",
       "  1024,\n",
       "  3,\n",
       "  1025,\n",
       "  15,\n",
       "  467,\n",
       "  595,\n",
       "  16,\n",
       "  18,\n",
       "  110,\n",
       "  1327,\n",
       "  158,\n",
       "  572,\n",
       "  256,\n",
       "  30,\n",
       "  175,\n",
       "  857,\n",
       "  416,\n",
       "  152,\n",
       "  5441,\n",
       "  58,\n",
       "  1025,\n",
       "  15,\n",
       "  467,\n",
       "  3050,\n",
       "  288,\n",
       "  18,\n",
       "  2,\n",
       "  9,\n",
       "  58,\n",
       "  1025,\n",
       "  16758,\n",
       "  9,\n",
       "  91,\n",
       "  6948,\n",
       "  1754,\n",
       "  5185,\n",
       "  1322,\n",
       "  491,\n",
       "  18,\n",
       "  625,\n",
       "  1032,\n",
       "  729,\n",
       "  2810,\n",
       "  49,\n",
       "  1327,\n",
       "  158,\n",
       "  2576,\n",
       "  30,\n",
       "  435,\n",
       "  29455,\n",
       "  31,\n",
       "  1413,\n",
       "  39,\n",
       "  21,\n",
       "  2884,\n",
       "  49,\n",
       "  347,\n",
       "  1624,\n",
       "  30,\n",
       "  384,\n",
       "  69,\n",
       "  35,\n",
       "  71,\n",
       "  117,\n",
       "  1371,\n",
       "  431,\n",
       "  349,\n",
       "  1516,\n",
       "  795,\n",
       "  569,\n",
       "  1481,\n",
       "  198,\n",
       "  4,\n",
       "  46,\n",
       "  28,\n",
       "  577,\n",
       "  612,\n",
       "  11764,\n",
       "  213,\n",
       "  290,\n",
       "  5779,\n",
       "  731,\n",
       "  1170,\n",
       "  577,\n",
       "  53,\n",
       "  3,\n",
       "  490,\n",
       "  2810,\n",
       "  213,\n",
       "  625,\n",
       "  912,\n",
       "  22553,\n",
       "  50,\n",
       "  76,\n",
       "  3772,\n",
       "  44,\n",
       "  288,\n",
       "  165,\n",
       "  18,\n",
       "  2529,\n",
       "  28963,\n",
       "  3,\n",
       "  108,\n",
       "  169,\n",
       "  137,\n",
       "  187,\n",
       "  612,\n",
       "  7126,\n",
       "  85,\n",
       "  695,\n",
       "  4199,\n",
       "  44,\n",
       "  820,\n",
       "  15,\n",
       "  1499,\n",
       "  3334,\n",
       "  23022,\n",
       "  311,\n",
       "  39,\n",
       "  33,\n",
       "  592,\n",
       "  9340,\n",
       "  110,\n",
       "  1340,\n",
       "  47,\n",
       "  19307,\n",
       "  25064,\n",
       "  27431,\n",
       "  577,\n",
       "  1499,\n",
       "  1108,\n",
       "  1451,\n",
       "  1108,\n",
       "  967,\n",
       "  1108,\n",
       "  1630,\n",
       "  1108,\n",
       "  17358,\n",
       "  706,\n",
       "  1281,\n",
       "  539,\n",
       "  8508,\n",
       "  20444,\n",
       "  14361,\n",
       "  1519,\n",
       "  331,\n",
       "  65,\n",
       "  20551,\n",
       "  65,\n",
       "  1451,\n",
       "  1,\n",
       "  5924,\n",
       "  1795,\n",
       "  3896,\n",
       "  11680,\n",
       "  91,\n",
       "  280,\n",
       "  391,\n",
       "  1519,\n",
       "  1,\n",
       "  133,\n",
       "  9015,\n",
       "  900,\n",
       "  1956,\n",
       "  1058,\n",
       "  4703,\n",
       "  292,\n",
       "  376,\n",
       "  1499,\n",
       "  1108,\n",
       "  2921,\n",
       "  3069,\n",
       "  136769,\n",
       "  56,\n",
       "  497,\n",
       "  490,\n",
       "  7126,\n",
       "  163,\n",
       "  2901,\n",
       "  506,\n",
       "  108,\n",
       "  7126,\n",
       "  163,\n",
       "  290,\n",
       "  714,\n",
       "  2397,\n",
       "  1181,\n",
       "  121]]"
      ]
     },
     "execution_count": 38,
     "metadata": {},
     "output_type": "execute_result"
    }
   ],
   "source": [
    "tokenizer.texts_to_sequences(['দ্রব্যমূল্য নিয়ন্ত্রণে অভিযান শুরুর আগে বাজারের নাম ফাঁস হয়ে যাচ্ছে। এই অভিযোগ উঠে এসেছে বাজার তদারকি জোরদার করা নিয়ে আয়োজিত বাণিজ্য মন্ত্রণালয়ের একটি সভায়। সভায় বাণিজ্য মন্ত্রণালয়ের একজন যুগ্ম সচিব বলেন, আগে বাজারে অভিযানের দিন রিজার্ভ পুলিশের সদস্যদের পাওয়া যেত। এখন সংশ্লিষ্ট থানা থেকে সদস্যদের নিয়ে অভিযান পরিচালনা করতে হয়। এতে বাজারের নাম আগেই প্রকাশ হয়ে যায়।  বৈঠকে আগের মতো রিজার্ভ পুলিশ সদস্যদের নিয়ে অভিযান চালানোর সিদ্ধান্ত হয়। এ জন্য পুলিশ সদস্যদের মোতায়েনের জন্য ঢাকা মেট্রোপলিটন পুলিশকে (ডিএমপি) অনুরোধ জানানো হয়। সংশ্লিষ্ট ব্যক্তিরা বলছেন, অভিযানের আগে বাজারের নাম ফাঁস হয়ে গেলে তদারকিতে কোনো লাভ হয় না। ব্যবসায়ীরা আগে থেকেই সতর্ক হয়ে যান। অনেক সময় দেখা যায়, ভ্রাম্যমাণ আদালত যাওয়ার পরই বেশির ভাগ দোকান বন্ধ করে দেওয়া হয়েছে।  সভায় বাজার তদারকির ক্ষেত্রে নানা দুর্বলতা উঠে আসে। সভায় এখন থেকে বাজারে অভিযানের ক্ষেত্রে সংশ্লিষ্ট ব্যবসায়ী সমিতিকে আরও বেশি সম্পৃক্ত করার সিদ্ধান্ত নেওয়া হয়। সভার কার্যবিবরণী থেকে এসব তথ্য জানা গেছে।  বাজার তদারকি দলের কার্যক্রম জোরদার করার লক্ষ্য নিয়ে বাণিজ্য মন্ত্রণালয়ে সভাটি অনুষ্ঠিত হয় গত ২৩ জানুয়ারি। এতে সভাপতিত্ব করেন বাণিজ্যসচিব শুভাশীষ বসু। সভায় বাণিজ্য মন্ত্রণালয়, শিল্প মন্ত্রণালয়, কৃষি মন্ত্রণালয়, খাদ্য মন্ত্রণালয়, ট্যারিফ কমিশন, রপ্তানি উন্নয়ন ব্যুরো (ইপিবি) , ট্রেডিং করপোরেশন অব বাংলাদেশ (টিসিবি) , বাংলাদেশ শিল্প ও বণিক সমিতি ফেডারেশন (এফবিসিসিআই) , ঢাকা উত্তর সিটি করপোরেশন ও জাতীয় ভোক্তা অধিকার সংরক্ষণ অধিদপ্তরের প্রতিনিধিরা উপস্থিত ছিলেন।  বাণিজ্য মন্ত্রণালয় পবিত্র রমজান মাসসহ বিভিন্ন সময়ে বাজারে তদারকি দল পাঠিয়ে থাকে। এসব তদারকি দল নানা অভিযোগে ব্যবসায়ীদের জরিমানা করে।'])"
   ]
  },
  {
   "cell_type": "code",
   "execution_count": 39,
   "metadata": {
    "colab": {
     "base_uri": "https://localhost:8080/"
    },
    "id": "_u-UdXz2bZnQ",
    "outputId": "72e11d01-f280-401f-b4fc-c466ebb6524f"
   },
   "outputs": [
    {
     "name": "stdout",
     "output_type": "stream",
     "text": [
      "জাতীয় সংসদে বিএনপি চেয়ারপারসন ও বিরোধীদলীয় নেতা খালেদা জিয়ার দেওয়া ভাষণে ভারত সম্পর্কে আনা নানা অভিযোগের জবাব দিয়েছে দেশটি। ভারতের পক্ষ থেকে এ সংক্রান্ত একটি লিখিত জবাব খালেদা জিয়াকে দেওয়া হয়েছে। আজ বৃহস্পতিবার রাতে বিএনপির গুলশান কার্যালয়ে খালেদা জিয়ার সঙ্গে বাংলাদেশে নিযুক্ত ভারতের হাইকমিশনার পঙ্কজ সরণ সৌজন্য সাক্ষাত্ করেন। সেখানে তিনি খালেদা জিয়ার কাছে ভারতের জবাব সম্বলিত একটি চিঠি দেন। এ সময় বিএনপি চেয়ারপারসনের উপদেষ্টা রিয়াজ রহমান উপস্থিত ছিলেন। সৌজন্য সাক্ষাত্ শেষে রিয়াজ রহমান গুলশান কার্যালয় থেকে বেরিয়ে যাওয়ার সময় প্রথম আলো ডটকমকে একথা বলেন। তিনি জানান, এ ধরনের একটি চিঠি ভারতের পক্ষ থেকে সরকারকেও দেওয়া হয়েছে। বিএনপি চেয়ারপারসন ভারতের হাইকমিশনারকে বলেন, ‘আমরা এই বিষয়গুলো সম্পর্কে কিছুই জানতে পারছি না। ভারত ও বাংলাদেশ সরকারের পক্ষ থেকেও কোনো কিছু জানানো হচ্ছিল না।’ গত ২৯ জুন সংসদে দেওয়া ভাষণে খালেদা জিয়া নারায়ণগঞ্জের কনটেইনার টার্মিনাল নির্মাণের জন্য বাংলাদেশকে না জানিয়ে ভারতের দরপত্র আহ্বান, তিস্তা চুক্তি না হওয়া, টিপাইমুখ বাঁধ নির্মাণ ও সীমান্তে অব্যাহত বাংলাদেশি নাগরিকদের হত্যার অভিযোগ তুলে ধরেন। আজ খালেদাকে দেওয়া চিঠিতে এ সংক্রান্ত বিষয়ে ভারতের অবস্থান তুলে ধরা হয়। এই বিষয়গুলো নিয়ে ভুল বোঝাবুঝির অবসানের জন্য ভারতের পক্ষ থেকে এ চিঠি দেওয়া হয়েছে বলে পঙ্কজ সরণ খালেদা জিয়াকে জানান।রিয়াজ রহমান প্রথম আলো ডটকমকে এ কথা জানিয়ে আরও বলেন, ‘বৈঠকে দেশের সার্বিক রাজনৈতিক পরিস্থিতি নিয়েও কথা হয়েছে।’ তিনি বলেন, চার সিটি করপোরেশন নির্বাচন নিয়েও কথা হয়েছে। নির্দলীয় তত্ত্বাবধায়ক সরকারের দাবি জানিয়ে খালেদা জিয়া বলেন, এর মাধ্যমে সুষ্ঠুভাবে নির্বাচন হয় এবং এটাই তারা চায়। এ সময় পঙ্কজ সরণ খালেদা জিয়াকে বলেন, ‘আপনারা তো সিটি করপোরেশন নির্বাচনে জিতেছেন।’ এর জবাবে খালেদা জিয়া বলেন, ‘চার সিটিতে সুষ্ঠু নির্বাচন হলে আমাদের প্রার্থীরা আরও বেশি ভোটের ব্যবধানে জয়ী হতো।’দুটি দেশের পারষ্পারিক সম্পর্ক নিয়ে বৈঠকে আলোচনা হয়েছে। খালেদা জিয়াকে ভারতের হাইকমিশনার বলেছেন, বিএনপি ভারতের সঙ্গে সুসম্পর্ক চায়। এ প্রসঙ্গে হাইকমিশনার বলেন, ভারতও তাই চায়। তারা বাংলাদেশের অভ্যন্তরীণ কোনো বিষয়ে হস্তক্ষেপ করতে চায় না। ভারত চায় দুটি দেশের জনগনের মধ্যে সম্পর্ক গড়ে উঠুক।বৈঠকে ভারতের হাইকমিশনার তাঁর দেশের প্রধানমন্ত্রী মনমোহন সিংহের একটি অভিনন্দনপত্র বিএনপি চেয়ারপারসনকে দেন। সম্প্রতি ভারতের বিভিন্ন রাজ্যে ভয়াবহ বন্যায় ব্যাপক ক্ষয়ক্ষতি ও প্রাণহানির ঘটনায় দু:খপ্রকাশ করে খালেদা জিয়া চিঠি দেওয়ার মনমোহন এই পত্র দেন।\n",
      "[949, 1730, 443, 6547, 1, 11259, 136, 527, 4627, 396, 5642, 521, 402, 701, 290, 2123, 1593, 3037, 13775, 260, 455, 3, 2, 1463, 14, 1157, 1593, 527, 12238, 396, 285, 60, 239, 218, 164, 2371, 2634, 527, 4627, 11, 469, 3205, 260, 5006, 8673, 76374, 10709, 23882, 59, 159, 10, 527, 4627, 73, 260, 1593, 188498, 14, 1099, 244, 2, 332, 443, 11590, 1286, 14429, 102, 292, 376, 10709, 23882, 250, 14429, 102, 2371, 3495, 3, 6557, 1803, 332, 22, 741, 6170, 46712, 1002, 10, 81, 2, 160, 14, 1099, 260, 455, 3, 32135, 396, 285, 443, 6547, 260, 36253, 6, 840, 7, 13487, 402, 1142, 299, 2920, 21, 521, 1, 65, 178, 455, 1987, 31, 66, 491, 2648, 1377, 33, 1078, 679, 1730, 396, 5642, 527, 4060, 9352, 4542, 4644, 1270, 9, 1978, 8, 3469, 260, 3129, 594, 5394, 801, 8, 1799, 66927, 2392, 676, 1, 3697, 1257, 1255, 2824, 686, 127, 205, 4309, 60, 48034, 396, 3158, 2, 1463, 936, 260, 487, 205, 705, 223, 7, 13487, 209, 876, 21784, 19253, 9, 260, 455, 3, 2, 1099, 396, 593, 27, 8673, 76374, 527, 12238, 797120, 102, 22, 741, 6170, 2, 29, 3469, 50, 6, 60963, 87, 2062, 272, 601, 9387, 29, 14259, 10, 6, 196, 391, 1519, 149, 9387, 29, 285, 14470, 6420, 178, 126, 3469, 527, 4060, 6, 24, 166, 7911, 149, 408, 17, 1417, 142, 10255, 2, 332, 8673, 76374, 527, 12238, 6, 9161, 179, 391, 1519, 296, 270830, 24, 922, 527, 4060, 6, 21690, 9082, 1449, 149, 95, 79, 3013, 50, 76, 2073, 2267, 10546, 525972, 87, 525973, 782, 209, 857, 423, 285, 527, 12238, 260, 5006, 224, 443, 260, 11, 12833, 10255, 2, 987, 5006, 6, 21395, 131, 10255, 142, 109, 2127, 31, 936, 4289, 16, 5939, 21, 521, 5939, 146, 87, 188499, 19, 782, 1698, 525974, 260, 5006, 12, 87, 298, 11456, 16182, 14, 108129, 443, 66928, 244, 574, 260, 56, 3176, 10547, 21435, 1138, 23750, 1, 9723, 1195, 1688, 525975, 4, 527, 4060, 1099, 1145, 11456, 7, 7144, 244]\n"
     ]
    }
   ],
   "source": [
    "print(X_text[2])\n",
    "print(X_token[2])"
   ]
  },
  {
   "cell_type": "code",
   "execution_count": 40,
   "metadata": {
    "colab": {
     "base_uri": "https://localhost:8080/"
    },
    "id": "qPevjG_zbaCb",
    "outputId": "444a0e6d-7a33-4ee3-ce9c-51700233ebf8"
   },
   "outputs": [
    {
     "data": {
      "text/plain": [
       "258"
      ]
     },
     "execution_count": 40,
     "metadata": {},
     "output_type": "execute_result"
    }
   ],
   "source": [
    "len(X_token[0])"
   ]
  },
  {
   "cell_type": "code",
   "execution_count": 41,
   "metadata": {
    "colab": {
     "base_uri": "https://localhost:8080/"
    },
    "id": "xrRL4ZoAbb5A",
    "outputId": "b715f89e-cd8d-4fbf-d138-d95a3c5ba61b"
   },
   "outputs": [
    {
     "data": {
      "text/plain": [
       "1752"
      ]
     },
     "execution_count": 41,
     "metadata": {},
     "output_type": "execute_result"
    }
   ],
   "source": [
    "len(X_text[0])"
   ]
  },
  {
   "cell_type": "code",
   "execution_count": 42,
   "metadata": {
    "id": "0k1U99AtbeW6"
   },
   "outputs": [],
   "source": [
    "from keras_preprocessing.sequence import pad_sequences\n",
    "maxlen = 300\n",
    "X_pad = pad_sequences(X_token, padding='post', maxlen=maxlen)"
   ]
  },
  {
   "cell_type": "code",
   "execution_count": 43,
   "metadata": {
    "id": "eZAn6k9sbglI"
   },
   "outputs": [],
   "source": [
    "from collections import Counter\n",
    "\n",
    "word_ls = []\n",
    "\n",
    "for sen in X_text:\n",
    "    word_ls.extend(sen.split())"
   ]
  },
  {
   "cell_type": "code",
   "execution_count": 44,
   "metadata": {
    "id": "ItWs9tlFbjfJ"
   },
   "outputs": [
    {
     "data": {
      "text/plain": [
       "109678174"
      ]
     },
     "execution_count": 44,
     "metadata": {},
     "output_type": "execute_result"
    }
   ],
   "source": [
    "len(word_ls)"
   ]
  },
  {
   "cell_type": "code",
   "execution_count": 45,
   "metadata": {
    "id": "vpEHHLO8bqio"
   },
   "outputs": [],
   "source": [
    "Counter = Counter(word_ls)"
   ]
  },
  {
   "cell_type": "code",
   "execution_count": 46,
   "metadata": {
    "id": "7sKOGFTobtTE"
   },
   "outputs": [
    {
     "name": "stdout",
     "output_type": "stream",
     "text": [
      "[('ও', 1378969), ('এ', 737940), ('থেকে', 732706), ('করে', 699838), ('করা', 614734), ('বলেন,', 565353), ('এই', 552340), ('জন্য', 409721), ('তিনি', 390072), ('সঙ্গে', 378022), ('তাঁর', 368902), ('একটি', 350880), ('এক', 347677), ('নিয়ে', 335447), ('না', 322702), ('করতে', 316282), ('এবং', 312170), ('হয়।', 281108), ('মধ্যে', 273414), ('আর', 267909), ('না।', 254137), ('পর', 244514), ('প্রথম', 243004), ('ওই', 242435), ('কিন্তু', 241280), ('হয়েছে।', 235664), ('বলে', 226974), ('হয়ে', 222604), ('কোনো', 219931), ('কথা', 217626), ('গত', 217454), ('দুই', 213697), ('গতকাল', 210889), ('সময়', 210212), ('যে', 205382), ('এর', 201383), ('তবে', 200661), ('তা', 186705), ('হবে।', 186115), ('দিয়ে', 182785), ('হাজার', 181696), ('করার', 181361), ('তাঁদের', 178225), ('দেওয়া', 173766), ('শুরু', 165695), ('আরও', 162795), ('আগে', 162036), ('এখন', 156784), ('বা', 155063), ('কাজ', 153402), ('বছর', 153057), ('বিভিন্ন', 150626), ('করেন।', 147147), ('আজ', 145461), ('সব', 144512), ('হবে', 142897), ('পুলিশ', 142005), ('ছিল', 141096), ('হিসেবে', 140360), ('তাঁরা', 139720), ('কিছু', 138693), ('টাকা', 137096), ('সেই', 137029), ('অনেক', 137023), ('পর্যন্ত', 137001), ('দেখা', 135218), ('দিন', 134220), ('দিকে', 132402), ('নতুন', 130990), ('বাংলাদেশ', 130534), ('আমরা', 130278), ('কাছে', 130148), ('করেন', 124535), ('শেষ', 123584), ('আমাদের', 123140), ('বেশি', 122863), ('তাঁকে', 122671), ('তার', 120197), ('তাদের', 118438), ('দলের', 118304), ('হয়', 117602), ('দেশের', 117076), ('জেলা', 116997), ('সে', 116979), ('হতে', 116978), ('কর্মকর্তা', 115949), ('প্রধান', 115313), ('উপজেলার', 113239), ('মনে', 111426), ('মো.', 110715), ('হলে', 109757), ('বিরুদ্ধে', 109755), ('পরে', 108696), ('তিন', 108196), ('কারণে', 108170), ('আমি', 107826), ('দিতে', 107338), ('আমার', 105639), ('ওপর', 105413), ('উপজেলা', 104377)]\n"
     ]
    }
   ],
   "source": [
    "most_occur = Counter.most_common(100)\n",
    "print(most_occur)"
   ]
  },
  {
   "cell_type": "code",
   "execution_count": 47,
   "metadata": {
    "id": "7Z7Hh57hbtMY"
   },
   "outputs": [
    {
     "data": {
      "text/plain": [
       "(408471, 300)"
      ]
     },
     "execution_count": 47,
     "metadata": {},
     "output_type": "execute_result"
    }
   ],
   "source": [
    "X_pad.shape"
   ]
  },
  {
   "cell_type": "code",
   "execution_count": 48,
   "metadata": {
    "id": "thBgWmXFbx3S"
   },
   "outputs": [
    {
     "data": {
      "text/plain": [
       "2413449"
      ]
     },
     "execution_count": 48,
     "metadata": {},
     "output_type": "execute_result"
    }
   ],
   "source": [
    "vocab_size"
   ]
  },
  {
   "cell_type": "code",
   "execution_count": 49,
   "metadata": {
    "id": "Gej9H7F_btJH"
   },
   "outputs": [
    {
     "data": {
      "text/plain": [
       "300"
      ]
     },
     "execution_count": 49,
     "metadata": {},
     "output_type": "execute_result"
    }
   ],
   "source": [
    "maxlen"
   ]
  },
  {
   "cell_type": "code",
   "execution_count": 50,
   "metadata": {
    "id": "fVCGXPnUbtGC"
   },
   "outputs": [
    {
     "data": {
      "text/plain": [
       "(408471, 9)"
      ]
     },
     "execution_count": 50,
     "metadata": {},
     "output_type": "execute_result"
    }
   ],
   "source": [
    "y_ohe.shape"
   ]
  },
  {
   "cell_type": "code",
   "execution_count": 51,
   "metadata": {
    "id": "Z-vs_ErPbtDU"
   },
   "outputs": [
    {
     "data": {
      "text/plain": [
       "array([  1003, 246988,  24457,      4,    713, 121716,    317,  10428,\n",
       "         8186, 188497,   1200,  13329,  12440,  12853, 145659,   4408,\n",
       "           48,    859, 132237,  12886,   1642, 345906, 412319,   4873,\n",
       "          241,    135,   9642,    600,   1926,     37,   3970,   1045,\n",
       "         2451,  12380,   3628,   3401, 412320,  99847,    196,   2746,\n",
       "          236, 128474, 525970,    144,   1648,    790,  27199,     26,\n",
       "        25700,  33093,  64324,   7915,   1417,    317,   5173,  59001,\n",
       "           38,  11341,  35840,   3970,    322,    276,    154,    322,\n",
       "          460,    381,  17236,   4683,    430, 178922,   1994,    152,\n",
       "         1034,   9179,  21865, 525971,   7661,    322,    276,  17236,\n",
       "         4683,    430,   4278,  10344,    859,   3717,   1229, 188497,\n",
       "         2025,   7661,    918,  42701, 150891,  12446,   6901,  13854,\n",
       "          154,    322,  17236,   4683,  12367,   1779,  14670,   3581,\n",
       "        14947,  39912,    226,   4277,    332,   2892,    144, 150891,\n",
       "           26,    210,    954,   2267,   8147,   4717,     23,    317,\n",
       "        26526,    362,   5644, 188497,    918,  11566,   1507, 412321,\n",
       "           32,    682,    480,   2610,  23791,  18539,     23,     78,\n",
       "       163419,  75410,    592,     54,   4732, 797116,   1458,   3970,\n",
       "       124934,  93032,  82578,  25500,  48033,  32546, 797117,    322,\n",
       "          103,    322,    154,  17236,   4683,    430,   3109,    269,\n",
       "          111, 797118,   6129,   2811,  12440,    324,    271,   1491,\n",
       "         2217,  93032,      1, 797119,  17261,      0,      0,      0,\n",
       "            0,      0,      0,      0,      0,      0,      0,      0,\n",
       "            0,      0,      0,      0,      0,      0,      0,      0,\n",
       "            0,      0,      0,      0,      0,      0,      0,      0,\n",
       "            0,      0,      0,      0,      0,      0,      0,      0,\n",
       "            0,      0,      0,      0,      0,      0,      0,      0,\n",
       "            0,      0,      0,      0,      0,      0,      0,      0,\n",
       "            0,      0,      0,      0,      0,      0,      0,      0,\n",
       "            0,      0,      0,      0,      0,      0,      0,      0,\n",
       "            0,      0,      0,      0,      0,      0,      0,      0,\n",
       "            0,      0,      0,      0,      0,      0,      0,      0,\n",
       "            0,      0,      0,      0,      0,      0,      0,      0,\n",
       "            0,      0,      0,      0,      0,      0,      0,      0,\n",
       "            0,      0,      0,      0,      0,      0,      0,      0,\n",
       "            0,      0,      0,      0,      0,      0,      0,      0,\n",
       "            0,      0,      0,      0,      0,      0,      0,      0,\n",
       "            0,      0,      0,      0], dtype=int32)"
      ]
     },
     "execution_count": 51,
     "metadata": {},
     "output_type": "execute_result"
    }
   ],
   "source": [
    "X_pad[1]"
   ]
  },
  {
   "cell_type": "code",
   "execution_count": 52,
   "metadata": {
    "id": "nKsL2zrRbtAw"
   },
   "outputs": [
    {
     "data": {
      "text/plain": [
       "(408471, 1)"
      ]
     },
     "execution_count": 52,
     "metadata": {},
     "output_type": "execute_result"
    }
   ],
   "source": [
    "class_labels.shape"
   ]
  },
  {
   "cell_type": "code",
   "execution_count": 53,
   "metadata": {
    "id": "L8Rthu23bs9z"
   },
   "outputs": [
    {
     "data": {
      "text/plain": [
       "array([0, 7, 0, ..., 7, 7, 0])"
      ]
     },
     "execution_count": 53,
     "metadata": {},
     "output_type": "execute_result"
    }
   ],
   "source": [
    "class_labels[:,0]"
   ]
  },
  {
   "cell_type": "code",
   "execution_count": 54,
   "metadata": {
    "id": "b-oknRhWbs61"
   },
   "outputs": [],
   "source": [
    "c_l = list(class_labels[:,0])"
   ]
  },
  {
   "cell_type": "code",
   "execution_count": 55,
   "metadata": {
    "id": "xfwgyPYSbs4A"
   },
   "outputs": [],
   "source": [
    "c_l = set(c_l)"
   ]
  },
  {
   "cell_type": "code",
   "execution_count": 56,
   "metadata": {
    "id": "EVbKC3k4cD7q"
   },
   "outputs": [
    {
     "name": "stdout",
     "output_type": "stream",
     "text": [
      "0\n",
      "1.7568342910229502\n",
      "1\n",
      "23.686343867787766\n",
      "2\n",
      "42.01944244419298\n",
      "3\n",
      "13.407437799514213\n",
      "4\n",
      "13.237976406533575\n",
      "5\n",
      "37.64015849612974\n",
      "6\n",
      "26.018918402446015\n",
      "7\n",
      "8.334101852607525\n",
      "8\n",
      "33.7133542423242\n"
     ]
    }
   ],
   "source": [
    "class_weight = {}\n",
    "\n",
    "for c in (list(c_l)):\n",
    "    print(c)\n",
    "    c_w = len(class_labels)/np.sum(class_labels==c)\n",
    "    print(c_w)\n",
    "    class_weight[c] = c_w"
   ]
  },
  {
   "cell_type": "code",
   "execution_count": 66,
   "metadata": {
    "id": "WYyUoWmMcGWL"
   },
   "outputs": [
    {
     "name": "stdout",
     "output_type": "stream",
     "text": [
      "Model: \"sequential_1\"\n",
      "_________________________________________________________________\n",
      " Layer (type)                Output Shape              Param #   \n",
      "=================================================================\n",
      " embedding_1 (Embedding)     (None, 300, 8)            19307592  \n",
      "                                                                 \n",
      " bidirectional_2 (Bidirectio  (None, 300, 256)         140288    \n",
      " nal)                                                            \n",
      "                                                                 \n",
      " bidirectional_3 (Bidirectio  (None, 256)              394240    \n",
      " nal)                                                            \n",
      "                                                                 \n",
      " dense_1 (Dense)             (None, 9)                 2313      \n",
      "                                                                 \n",
      "=================================================================\n",
      "Total params: 19,844,433\n",
      "Trainable params: 19,844,433\n",
      "Non-trainable params: 0\n",
      "_________________________________________________________________\n"
     ]
    }
   ],
   "source": [
    "from keras.models import Sequential\n",
    "from keras.layers import Embedding, LSTM, Bidirectional, Dense\n",
    "\n",
    "embedding_dim = 8\n",
    "\n",
    "model = Sequential()\n",
    "model.add(Embedding(input_dim=vocab_size, \n",
    "                           output_dim=embedding_dim, \n",
    "                           input_length=maxlen))\n",
    "model.add(Bidirectional(LSTM(128, return_sequences = True)))\n",
    "model.add(Bidirectional(LSTM(128))) \n",
    "model.add(Dense(9, activation='softmax'))\n",
    "model.compile(optimizer='adam',\n",
    "              loss='categorical_crossentropy',\n",
    "              metrics=['accuracy'])\n",
    "model.summary()"
   ]
  },
  {
   "cell_type": "code",
   "execution_count": 67,
   "metadata": {
    "id": "0h5i0MCZcHUK"
   },
   "outputs": [],
   "source": [
    "from keras.callbacks import LearningRateScheduler, EarlyStopping\n",
    "from math import exp\n",
    "def exp_decay(epoch):\n",
    "    initial_lrate = 0.1\n",
    "    k = 0.1\n",
    "    lrate = initial_lrate * exp(-k*epoch)\n",
    "    return lrate\n",
    "lrate = LearningRateScheduler(exp_decay)"
   ]
  },
  {
   "cell_type": "code",
   "execution_count": 68,
   "metadata": {
    "id": "R5hJ6W-ucHRW"
   },
   "outputs": [
    {
     "data": {
      "text/plain": [
       "[0.1,\n",
       " 0.09048374180359596,\n",
       " 0.0818730753077982,\n",
       " 0.0740818220681718,\n",
       " 0.06703200460356394]"
      ]
     },
     "execution_count": 68,
     "metadata": {},
     "output_type": "execute_result"
    }
   ],
   "source": [
    "[exp_decay(i) for i in range(5)]"
   ]
  },
  {
   "cell_type": "code",
   "execution_count": 69,
   "metadata": {
    "id": "QqG0MYSTcHOG"
   },
   "outputs": [],
   "source": [
    "import numpy as np\n",
    "from sklearn.model_selection import StratifiedShuffleSplit\n",
    "\n",
    "sss = StratifiedShuffleSplit(n_splits=2, test_size=0.3, random_state=0)\n",
    "sss.get_n_splits(X_pad, y_ohe)\n",
    "\n",
    "#print(sss)       \n",
    "\n",
    "for train_index, test_index in sss.split(X_pad, y_ohe):\n",
    "    #print(\"TRAIN:\", train_index, \"TEST:\", test_index)\n",
    "    X_train, X_test = X_pad[train_index], X_pad[test_index]\n",
    "    y_train, y_test = y_ohe[train_index], y_ohe[test_index]"
   ]
  },
  {
   "cell_type": "code",
   "execution_count": 70,
   "metadata": {
    "id": "uAIx_mmhcHLd"
   },
   "outputs": [
    {
     "data": {
      "text/plain": [
       "array([[0],\n",
       "       [7],\n",
       "       [0],\n",
       "       ...,\n",
       "       [7],\n",
       "       [7],\n",
       "       [0]])"
      ]
     },
     "execution_count": 70,
     "metadata": {},
     "output_type": "execute_result"
    }
   ],
   "source": [
    "class_labels"
   ]
  },
  {
   "cell_type": "code",
   "execution_count": 71,
   "metadata": {},
   "outputs": [
    {
     "data": {
      "text/plain": [
       "{0: 1.7568342910229502,\n",
       " 1: 23.686343867787766,\n",
       " 2: 42.01944244419298,\n",
       " 3: 13.407437799514213,\n",
       " 4: 13.237976406533575,\n",
       " 5: 37.64015849612974,\n",
       " 6: 26.018918402446015,\n",
       " 7: 8.334101852607525,\n",
       " 8: 33.7133542423242}"
      ]
     },
     "execution_count": 71,
     "metadata": {},
     "output_type": "execute_result"
    }
   ],
   "source": [
    "class_weight"
   ]
  },
  {
   "cell_type": "code",
   "execution_count": 148,
   "metadata": {},
   "outputs": [
    {
     "data": {
      "text/plain": [
       "[]"
      ]
     },
     "execution_count": 148,
     "metadata": {},
     "output_type": "execute_result"
    }
   ],
   "source": [
    "import tensorflow as tf\n",
    "tf.config.list_physical_devices('GPU')"
   ]
  },
  {
   "cell_type": "code",
   "execution_count": 72,
   "metadata": {
    "id": "Kj1isxTYcHIa"
   },
   "outputs": [
    {
     "name": "stdout",
     "output_type": "stream",
     "text": [
      "Epoch 1/10\n",
      "894/894 [==============================] - 1373s 2s/step - loss: 9.4262 - accuracy: 0.6548 - val_loss: 0.6448 - val_accuracy: 0.7915\n",
      "Epoch 2/10\n",
      "894/894 [==============================] - 1372s 2s/step - loss: 6.0399 - accuracy: 0.7750 - val_loss: 0.7154 - val_accuracy: 0.7757\n",
      "Epoch 3/10\n",
      "894/894 [==============================] - 1373s 2s/step - loss: 3.0285 - accuracy: 0.8754 - val_loss: 0.4793 - val_accuracy: 0.8555\n",
      "Epoch 4/10\n",
      "894/894 [==============================] - 1381s 2s/step - loss: 1.6045 - accuracy: 0.9249 - val_loss: 0.4393 - val_accuracy: 0.8676\n",
      "Epoch 5/10\n",
      "894/894 [==============================] - 1384s 2s/step - loss: 0.8705 - accuracy: 0.9541 - val_loss: 0.4672 - val_accuracy: 0.8722\n",
      "Epoch 6/10\n",
      "894/894 [==============================] - 1389s 2s/step - loss: 0.6120 - accuracy: 0.9655 - val_loss: 0.3988 - val_accuracy: 0.8952\n",
      "Epoch 7/10\n",
      "894/894 [==============================] - 1394s 2s/step - loss: 0.3708 - accuracy: 0.9762 - val_loss: 0.4415 - val_accuracy: 0.8904\n",
      "Epoch 8/10\n",
      "894/894 [==============================] - 1395s 2s/step - loss: 0.2712 - accuracy: 0.9827 - val_loss: 0.4122 - val_accuracy: 0.9060\n",
      "Epoch 9/10\n",
      "894/894 [==============================] - 1397s 2s/step - loss: 0.2300 - accuracy: 0.9859 - val_loss: 0.4150 - val_accuracy: 0.9065\n",
      "Epoch 10/10\n",
      "894/894 [==============================] - 1406s 2s/step - loss: 0.1922 - accuracy: 0.9876 - val_loss: 0.4466 - val_accuracy: 0.9064\n"
     ]
    }
   ],
   "source": [
    "history = model.fit(X_train, y_train,\n",
    "                    epochs=10,\n",
    "                    verbose=1,\n",
    "                    validation_split=0.2,\n",
    "                    batch_size=256,\n",
    "                    class_weight = class_weight)"
   ]
  },
  {
   "cell_type": "code",
   "execution_count": 73,
   "metadata": {
    "id": "Ij0JM_TJcHGZ"
   },
   "outputs": [
    {
     "name": "stdout",
     "output_type": "stream",
     "text": [
      "3830/3830 [==============================] - 527s 138ms/step - loss: 0.4309 - accuracy: 0.9085\n"
     ]
    },
    {
     "data": {
      "text/plain": [
       "[0.4308817982673645, 0.9085130095481873]"
      ]
     },
     "execution_count": 73,
     "metadata": {},
     "output_type": "execute_result"
    }
   ],
   "source": [
    "model.evaluate(X_test, y_test)"
   ]
  },
  {
   "cell_type": "code",
   "execution_count": null,
   "metadata": {},
   "outputs": [],
   "source": [
    "# evaluate the model\n",
    "_, train_acc = model.evaluate(X_train, y_train, verbose=0)\n",
    "_, test_acc = model.evaluate(X_test, y_test, verbose=0)\n",
    "print(train_acc)\n",
    "print(test_acc)"
   ]
  },
  {
   "cell_type": "code",
   "execution_count": 83,
   "metadata": {},
   "outputs": [
    {
     "data": {
      "text/plain": [
       "'2.10.0'"
      ]
     },
     "execution_count": 83,
     "metadata": {},
     "output_type": "execute_result"
    }
   ],
   "source": [
    "import tensorflow as tf\n",
    "tf.__version__"
   ]
  },
  {
   "cell_type": "code",
   "execution_count": null,
   "metadata": {},
   "outputs": [],
   "source": [
    "# predict probabilities for test set\n",
    "yhat_probs = model.predict(X_test)"
   ]
  },
  {
   "cell_type": "code",
   "execution_count": 85,
   "metadata": {},
   "outputs": [],
   "source": [
    "# predict crisp classes for test set\n",
    "yhat_classes = np.argmax(yhat_probs, axis=1)"
   ]
  },
  {
   "cell_type": "code",
   "execution_count": 86,
   "metadata": {},
   "outputs": [
    {
     "data": {
      "text/plain": [
       "array([0, 0, 0, ..., 3, 8, 4])"
      ]
     },
     "execution_count": 86,
     "metadata": {},
     "output_type": "execute_result"
    }
   ],
   "source": [
    "yhat_classes"
   ]
  },
  {
   "cell_type": "code",
   "execution_count": 87,
   "metadata": {},
   "outputs": [
    {
     "name": "stdout",
     "output_type": "stream",
     "text": [
      "Accuracy: 0.905926\n",
      "Precision: 0.913823\n",
      "Recall: 0.905926\n",
      "F1 score: 0.909858\n"
     ]
    }
   ],
   "source": [
    "from sklearn.metrics import accuracy_score, recall_score, precision_score, f1_score\n",
    "\n",
    "yhat_probs = (yhat_probs > 0.5) \n",
    "labels = y_test\n",
    "guesses = yhat_probs\n",
    "\n",
    "# accuracy: (tp + tn) / (p + n)\n",
    "accuracy = accuracy_score(labels, guesses)\n",
    "print('Accuracy: %f' % accuracy)\n",
    "# precision tp / (tp + fp)\n",
    "precision = precision_score(labels, guesses, average='micro')\n",
    "print('Precision: %f' % precision)\n",
    "# recall: tp / (tp + fn)\n",
    "recall = recall_score(labels, guesses, average='micro')\n",
    "print('Recall: %f' % recall)\n",
    "# f1: 2 tp / (2 tp + fp + fn)\n",
    "f1 = f1_score(labels, guesses, average='micro')\n",
    "print('F1 score: %f' % f1)"
   ]
  },
  {
   "cell_type": "code",
   "execution_count": 88,
   "metadata": {},
   "outputs": [
    {
     "name": "stdout",
     "output_type": "stream",
     "text": [
      "Accuracy: 0.905926\n",
      "Precision: 0.913823\n",
      "Recall: 0.905926\n",
      "F1 score: 0.909858\n",
      "ROC AUC: 0.925555\n"
     ]
    },
    {
     "data": {
      "text/plain": [
       "<AxesSubplot: >"
      ]
     },
     "execution_count": 88,
     "metadata": {},
     "output_type": "execute_result"
    },
    {
     "data": {
      "image/png": "[encoded data removed]",
      "text/plain": [
       "<Figure size 2000x1000 with 2 Axes>"
      ]
     },
     "metadata": {},
     "output_type": "display_data"
    }
   ],
   "source": [
    "from sklearn.metrics import accuracy_score, recall_score, precision_score, f1_score, confusion_matrix, roc_auc_score, cohen_kappa_score\n",
    "\n",
    "yhat_probs = (yhat_probs > 0.5) \n",
    "labels = y_test\n",
    "guesses = yhat_probs\n",
    "\n",
    "# accuracy: (tp + tn) / (p + n)\n",
    "accuracy = accuracy_score(labels, guesses)\n",
    "print('Accuracy: %f' % accuracy)\n",
    "# precision tp / (tp + fp)\n",
    "precision = precision_score(labels, guesses, average='micro')\n",
    "print('Precision: %f' % precision)\n",
    "# recall: tp / (tp + fn)\n",
    "recall = recall_score(labels, guesses, average='micro')\n",
    "print('Recall: %f' % recall)\n",
    "# f1: 2 tp / (2 tp + fp + fn)\n",
    "f1 = f1_score(labels, guesses, average='micro')\n",
    "print('F1 score: %f' % f1)\n",
    "\n",
    "auc = roc_auc_score(labels, guesses)\n",
    "print('ROC AUC: %f' % auc)\n",
    "\n",
    "import seaborn as sns\n",
    "matrix = confusion_matrix(labels.argmax(axis=1), guesses.argmax(axis=1))\n",
    "sns.heatmap(matrix, annot=True)"
   ]
  },
  {
   "cell_type": "code",
   "execution_count": 77,
   "metadata": {},
   "outputs": [
    {
     "data": {
      "text/plain": [
       "{'loss': [9.426197052001953,\n",
       "  6.039872646331787,\n",
       "  3.0285470485687256,\n",
       "  1.604506015777588,\n",
       "  0.8705442547798157,\n",
       "  0.6119611263275146,\n",
       "  0.3708060681819916,\n",
       "  0.27116331458091736,\n",
       "  0.23000651597976685,\n",
       "  0.19215717911720276],\n",
       " 'accuracy': [0.654761016368866,\n",
       "  0.7750182747840881,\n",
       "  0.8754366040229797,\n",
       "  0.9248676300048828,\n",
       "  0.9541187882423401,\n",
       "  0.9654721617698669,\n",
       "  0.9762134552001953,\n",
       "  0.9826967120170593,\n",
       "  0.9858793616294861,\n",
       "  0.9876149296760559],\n",
       " 'val_loss': [0.6447529196739197,\n",
       "  0.7153765559196472,\n",
       "  0.4793335497379303,\n",
       "  0.43933501839637756,\n",
       "  0.4671650230884552,\n",
       "  0.3988358676433563,\n",
       "  0.4414563477039337,\n",
       "  0.41216081380844116,\n",
       "  0.4149765074253082,\n",
       "  0.44662269949913025],\n",
       " 'val_accuracy': [0.7915399074554443,\n",
       "  0.7756618857383728,\n",
       "  0.85545414686203,\n",
       "  0.8675724864006042,\n",
       "  0.8721715211868286,\n",
       "  0.895236611366272,\n",
       "  0.8904102444648743,\n",
       "  0.905973494052887,\n",
       "  0.9065155982971191,\n",
       "  0.9064456224441528]}"
      ]
     },
     "execution_count": 77,
     "metadata": {},
     "output_type": "execute_result"
    }
   ],
   "source": [
    "history.history"
   ]
  },
  {
   "cell_type": "code",
   "execution_count": 78,
   "metadata": {
    "id": "3ICStv4BcHC8"
   },
   "outputs": [
    {
     "data": {
      "image/png": "[encoded data removed]",
      "text/plain": [
       "<Figure size 2000x1000 with 1 Axes>"
      ]
     },
     "metadata": {},
     "output_type": "display_data"
    }
   ],
   "source": [
    "plt.plot(history.history['accuracy'])\n",
    "plt.plot(history.history['val_accuracy'])\n",
    "plt.legend(['train', 'valid'])\n",
    "plt.show()"
   ]
  },
  {
   "cell_type": "code",
   "execution_count": 89,
   "metadata": {
    "id": "k8xK1_00cG_0"
   },
   "outputs": [
    {
     "data": {
      "image/png": "[encoded data removed]",
      "text/plain": [
       "<Figure size 2000x1000 with 1 Axes>"
      ]
     },
     "metadata": {},
     "output_type": "display_data"
    }
   ],
   "source": [
    "plt.plot(history.history['loss'])\n",
    "plt.plot(history.history['val_loss'])\n",
    "plt.legend(['train', 'valid'])\n",
    "plt.show()"
   ]
  },
  {
   "cell_type": "code",
   "execution_count": 80,
   "metadata": {
    "id": "0OmreF2dcd6_"
   },
   "outputs": [],
   "source": [
    "model.save('lstm_best.h5')"
   ]
  },
  {
   "cell_type": "code",
   "execution_count": 90,
   "metadata": {
    "id": "iJqdTInqcd3Z"
   },
   "outputs": [
    {
     "data": {
      "image/png": "[encoded data removed]",
      "text/plain": [
       "<Figure size 2000x1000 with 1 Axes>"
      ]
     },
     "metadata": {},
     "output_type": "display_data"
    }
   ],
   "source": [
    "import matplotlib.pyplot as plt\n",
    "plt.hist(y_train)\n",
    "plt.show()"
   ]
  },
  {
   "cell_type": "code",
   "execution_count": 91,
   "metadata": {
    "id": "AnWs0iHicd0g"
   },
   "outputs": [],
   "source": [
    "from keras.models import load_model\n",
    "\n",
    "model = load_model('lstm_best.h5')"
   ]
  },
  {
   "cell_type": "code",
   "execution_count": 92,
   "metadata": {
    "id": "Cd5-KRfYcuBg"
   },
   "outputs": [],
   "source": [
    "from sklearn.preprocessing import LabelEncoder\n",
    "\n",
    "encoder = LabelEncoder()\n",
    "class_labels = encoder.fit_transform(y_label)"
   ]
  },
  {
   "cell_type": "code",
   "execution_count": 98,
   "metadata": {
    "id": "IAyWHbN5ct-S"
   },
   "outputs": [],
   "source": [
    "def generate_response():\n",
    "    input_sentence = input('Enter input news: ')\n",
    "    Xi_token = tokenizer.texts_to_sequences([input_sentence])\n",
    "    Xi_pad = pad_sequences(Xi_token, padding='post', maxlen=maxlen)\n",
    "    print('Model predicts')\n",
    "    preds = model.predict(Xi_pad)\n",
    "    print('Confidence :')\n",
    "    print(preds)\n",
    "    preds = preds\n",
    "    total = 0\n",
    "    for k in range(len(preds[0])):\n",
    "        print(encoder.inverse_transform([[k]]))\n",
    "        print('%f %%' %(preds[0,k]*100))\n",
    "        total += preds[0,k]*100\n",
    "    #print(total)\n",
    "    print('Predicted class: %s'%(encoder.inverse_transform(np.argmax(preds, axis=1))))"
   ]
  },
  {
   "cell_type": "code",
   "execution_count": 147,
   "metadata": {
    "id": "vK1veznKct7J"
   },
   "outputs": [
    {
     "name": "stdout",
     "output_type": "stream",
     "text": [
      "Enter input news: বিশ্ববাজারে চলছে অর্থনৈতিক মন্দা।\n",
      "Model predicts\n",
      "1/1 [==============================] - 0s 126ms/step\n",
      "Confidence :\n",
      "[[0.01373076 0.00205704 0.00447263 0.07394931 0.02161004 0.7492058\n",
      "  0.01315284 0.06031948 0.06150205]]\n",
      "['bangladesh']\n",
      "1.373076 %\n",
      "['economy']\n",
      "0.205704 %\n",
      "['education']\n",
      "0.447263 %\n",
      "['entertainment']\n",
      "7.394931 %\n",
      "['international']\n",
      "2.161004 %\n",
      "['life-style']\n",
      "74.920583 %\n",
      "['opinion']\n",
      "1.315284 %\n",
      "['sports']\n",
      "6.031948 %\n",
      "['technology']\n",
      "6.150205 %\n",
      "Predicted class: ['life-style']\n"
     ]
    }
   ],
   "source": [
    "generate_response()"
   ]
  },
  {
   "cell_type": "code",
   "execution_count": null,
   "metadata": {
    "id": "supfFGM_cdxo"
   },
   "outputs": [],
   "source": []
  }
 ],
 "metadata": {
  "accelerator": "GPU",
  "colab": {
   "provenance": []
  },
  "gpuClass": "standard",
  "kernelspec": {
   "display_name": "Python 3 (ipykernel)",
   "language": "python",
   "name": "python3"
  },
  "language_info": {
   "codemirror_mode": {
    "name": "ipython",
    "version": 3
   },
   "file_extension": ".py",
   "mimetype": "text/x-python",
   "name": "python",
   "nbconvert_exporter": "python",
   "pygments_lexer": "ipython3",
   "version": "3.9.7"
  }
 },
 "nbformat": 4,
 "nbformat_minor": 1
}
